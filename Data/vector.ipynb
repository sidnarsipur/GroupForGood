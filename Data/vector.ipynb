{
 "cells": [
  {
   "cell_type": "code",
   "execution_count": null,
   "metadata": {},
   "outputs": [],
   "source": [
    "!docker pull containers.intersystems.com/intersystems/iris-community:2024.1"
   ]
  },
  {
   "cell_type": "code",
   "execution_count": null,
   "metadata": {},
   "outputs": [],
   "source": [
    "!pip3 install testcontainers.iris"
   ]
  },
  {
   "cell_type": "code",
   "execution_count": 20,
   "metadata": {},
   "outputs": [
    {
     "name": "stderr",
     "output_type": "stream",
     "text": [
      "Pulling image containers.intersystems.com/intersystems/iris-community:2024.1\n",
      "Container started: 4ff56480969a\n",
      "Waiting to be ready...\n"
     ]
    }
   ],
   "source": [
    "from testcontainers.iris import IRISContainer\n",
    "import os\n",
    "\n",
    "image = 'containers.intersystems.com/intersystems/iris-community:2024.1'\n",
    "container = IRISContainer(image, username=\"demo\", password=\"demo\", namespace=\"demo\")\n",
    "container.with_exposed_ports(1972, 52773)\n",
    "container.start()\n",
    "CONNECTION_STRING = container.get_connection_url(\"localhost\")"
   ]
  },
  {
   "cell_type": "code",
   "execution_count": null,
   "metadata": {},
   "outputs": [],
   "source": [
    "!pip3 install pandas\n",
    "!pip3 install sentence_transformers\n",
    "!pip3 install sqlalchemy"
   ]
  },
  {
   "cell_type": "code",
   "execution_count": 21,
   "metadata": {},
   "outputs": [],
   "source": [
    "\n",
    "import os, pandas as pd\n",
    "from sentence_transformers import SentenceTransformer\n",
    "from sqlalchemy import create_engine, text"
   ]
  },
  {
   "cell_type": "code",
   "execution_count": 22,
   "metadata": {},
   "outputs": [],
   "source": [
    "engine = create_engine(CONNECTION_STRING)"
   ]
  },
  {
   "cell_type": "code",
   "execution_count": null,
   "metadata": {},
   "outputs": [],
   "source": [
    "!pip3 install firebase_admin"
   ]
  },
  {
   "cell_type": "code",
   "execution_count": 23,
   "metadata": {},
   "outputs": [],
   "source": [
    "import firebase_admin\n",
    "from firebase_admin import credentials\n",
    "from firebase_admin import firestore"
   ]
  },
  {
   "cell_type": "code",
   "execution_count": 25,
   "metadata": {},
   "outputs": [],
   "source": [
    "cred = credentials.Certificate('service_key.json')\n",
    "\n",
    "app = firebase_admin.initialize_app(cred, name='new')\n",
    "db = firestore.client()"
   ]
  },
  {
   "cell_type": "code",
   "execution_count": 26,
   "metadata": {},
   "outputs": [],
   "source": [
    "nonprofit_ref = db.collection(\"nonprofits\")\n",
    "docs = nonprofit_ref.stream()\n",
    "\n",
    "nonprofits = []"
   ]
  },
  {
   "cell_type": "code",
   "execution_count": 27,
   "metadata": {},
   "outputs": [
    {
     "name": "stdout",
     "output_type": "stream",
     "text": [
      "343\n"
     ]
    }
   ],
   "source": [
    "for doc in docs:  \n",
    "    nonprofit = {\n",
    "        'id': doc.id,\n",
    "        'name': doc.get('name'),\n",
    "        'website': doc.get('website'),\n",
    "        'city': doc.get('city'),\n",
    "        'state': doc.get('state'),\n",
    "        'mission': doc.get('mission'),\n",
    "        'mission_vector': doc.get('mission_vector'),    \n",
    "    }\n",
    "\n",
    "    nonprofits.append(nonprofit)\n",
    "\n",
    "print(len(nonprofits))"
   ]
  },
  {
   "cell_type": "code",
   "execution_count": 28,
   "metadata": {},
   "outputs": [
    {
     "data": {
      "text/html": [
       "<div>\n",
       "<style scoped>\n",
       "    .dataframe tbody tr th:only-of-type {\n",
       "        vertical-align: middle;\n",
       "    }\n",
       "\n",
       "    .dataframe tbody tr th {\n",
       "        vertical-align: top;\n",
       "    }\n",
       "\n",
       "    .dataframe thead th {\n",
       "        text-align: right;\n",
       "    }\n",
       "</style>\n",
       "<table border=\"1\" class=\"dataframe\">\n",
       "  <thead>\n",
       "    <tr style=\"text-align: right;\">\n",
       "      <th></th>\n",
       "      <th>id</th>\n",
       "      <th>name</th>\n",
       "      <th>website</th>\n",
       "      <th>city</th>\n",
       "      <th>state</th>\n",
       "      <th>mission</th>\n",
       "      <th>mission_vector</th>\n",
       "    </tr>\n",
       "  </thead>\n",
       "  <tbody>\n",
       "    <tr>\n",
       "      <th>0</th>\n",
       "      <td>0GLB8dk058bdbiHFq4vc</td>\n",
       "      <td>Hope House Shelter</td>\n",
       "      <td>www.hopehouseshelter.org</td>\n",
       "      <td>Springfield</td>\n",
       "      <td>MA</td>\n",
       "      <td>We provide compassionate care and support to i...</td>\n",
       "      <td>[-0.0505363903939724, -0.01882144808769226, 0....</td>\n",
       "    </tr>\n",
       "    <tr>\n",
       "      <th>1</th>\n",
       "      <td>0ZtNJyNf2VzN05mVcbP6</td>\n",
       "      <td>GreenFuture Initiative</td>\n",
       "      <td>www.greenfutureinitiative.org</td>\n",
       "      <td>Boston</td>\n",
       "      <td>MA</td>\n",
       "      <td>Working to protect and restore our local envir...</td>\n",
       "      <td>[0.028934689238667488, 0.05520101636648178, 0....</td>\n",
       "    </tr>\n",
       "    <tr>\n",
       "      <th>2</th>\n",
       "      <td>0a6geGfA8vmCu9gSD056</td>\n",
       "      <td>City Rise Community Center</td>\n",
       "      <td>www.cityrisecc.org</td>\n",
       "      <td>Worcester</td>\n",
       "      <td>MA</td>\n",
       "      <td>Our mission is to empower underserved communit...</td>\n",
       "      <td>[0.012638190761208534, -0.03829539567232132, -...</td>\n",
       "    </tr>\n",
       "    <tr>\n",
       "      <th>3</th>\n",
       "      <td>17NK7nlp3yXXcwADnJ0o</td>\n",
       "      <td>Mental Health Association of Massachusetts</td>\n",
       "      <td>www.mentalhealthmass.org</td>\n",
       "      <td>Fall River</td>\n",
       "      <td>MA</td>\n",
       "      <td>The Mental Health Association of Massachusetts...</td>\n",
       "      <td>[-0.0486491434276104, -0.01821873150765896, 0....</td>\n",
       "    </tr>\n",
       "    <tr>\n",
       "      <th>4</th>\n",
       "      <td>1OQYNZnRkupyspuLjrWg</td>\n",
       "      <td>Boston Women's Empowerment Center</td>\n",
       "      <td>www.bostonwomensempowerment.org</td>\n",
       "      <td>Boston</td>\n",
       "      <td>MA</td>\n",
       "      <td>We work to empower women and girls through edu...</td>\n",
       "      <td>[-0.00923081487417221, 0.025880808010697365, 0...</td>\n",
       "    </tr>\n",
       "  </tbody>\n",
       "</table>\n",
       "</div>"
      ],
      "text/plain": [
       "                     id                                        name  \\\n",
       "0  0GLB8dk058bdbiHFq4vc                          Hope House Shelter   \n",
       "1  0ZtNJyNf2VzN05mVcbP6                      GreenFuture Initiative   \n",
       "2  0a6geGfA8vmCu9gSD056                  City Rise Community Center   \n",
       "3  17NK7nlp3yXXcwADnJ0o  Mental Health Association of Massachusetts   \n",
       "4  1OQYNZnRkupyspuLjrWg           Boston Women's Empowerment Center   \n",
       "\n",
       "                           website         city state  \\\n",
       "0         www.hopehouseshelter.org  Springfield    MA   \n",
       "1    www.greenfutureinitiative.org       Boston    MA   \n",
       "2               www.cityrisecc.org    Worcester    MA   \n",
       "3         www.mentalhealthmass.org   Fall River    MA   \n",
       "4  www.bostonwomensempowerment.org       Boston    MA   \n",
       "\n",
       "                                             mission  \\\n",
       "0  We provide compassionate care and support to i...   \n",
       "1  Working to protect and restore our local envir...   \n",
       "2  Our mission is to empower underserved communit...   \n",
       "3  The Mental Health Association of Massachusetts...   \n",
       "4  We work to empower women and girls through edu...   \n",
       "\n",
       "                                      mission_vector  \n",
       "0  [-0.0505363903939724, -0.01882144808769226, 0....  \n",
       "1  [0.028934689238667488, 0.05520101636648178, 0....  \n",
       "2  [0.012638190761208534, -0.03829539567232132, -...  \n",
       "3  [-0.0486491434276104, -0.01821873150765896, 0....  \n",
       "4  [-0.00923081487417221, 0.025880808010697365, 0...  "
      ]
     },
     "execution_count": 28,
     "metadata": {},
     "output_type": "execute_result"
    }
   ],
   "source": [
    "df = pd.DataFrame(nonprofits)\n",
    "\n",
    "df.head()"
   ]
  },
  {
   "cell_type": "code",
   "execution_count": 29,
   "metadata": {},
   "outputs": [],
   "source": [
    "with engine.connect() as conn:\n",
    "    with conn.begin():# Load \n",
    "        sql = f\"\"\"\n",
    "                CREATE TABLE nonprofits (\n",
    "        id VARCHAR(255),\n",
    "        name VARCHAR(255),\n",
    "        website VARCHAR(500),\n",
    "        city VARCHAR(255),\n",
    "        state VARCHAR(2000),\n",
    "        mission VARCHAR(2000),\n",
    "        mission_vector VECTOR(DOUBLE, 384)\n",
    "        )\n",
    "                \"\"\"\n",
    "        result = conn.execute(text(sql))\n",
    "\n"
   ]
  },
  {
   "cell_type": "code",
   "execution_count": null,
   "metadata": {},
   "outputs": [],
   "source": [
    "with engine.connect() as conn:\n",
    "    with conn.begin():\n",
    "        for index, row in df.iterrows():\n",
    "            sql = text(\"\"\"\n",
    "                INSERT INTO nonprofits \n",
    "                (id, name, website, city, state, mission, mission_vector)\n",
    "                VALUES  (:id, :name, :website, :city, :state, :mission, :mission_vector)\n",
    "            \"\"\")\n",
    "            conn.execute(sql, {\n",
    "                'id': row['id'],\n",
    "                'name': row['name'],\n",
    "                'website': row['website'],\n",
    "                'city': row['city'],\n",
    "                'state': row['state'],\n",
    "                'mission': row['mission'],\n",
    "                'mission_vector': row['mission_vector']\n",
    "            })"
   ]
  },
  {
   "cell_type": "code",
   "execution_count": null,
   "metadata": {},
   "outputs": [],
   "source": [
    "model = SentenceTransformer('all-MiniLM-L6-v2') "
   ]
  },
  {
   "cell_type": "code",
   "execution_count": 29,
   "metadata": {},
   "outputs": [],
   "source": [
    "# Generate embeddings for all descriptions at once. Batch processing makes it faster\n",
    "embeddings = model.encode(df['mission'].tolist(), normalize_embeddings=True)\n",
    "\n",
    "# Add the embeddings to the DataFrame\n",
    "df['mission_vector'] = embeddings.tolist()"
   ]
  },
  {
   "cell_type": "code",
   "execution_count": null,
   "metadata": {},
   "outputs": [],
   "source": [
    "df.head()\n"
   ]
  },
  {
   "cell_type": "code",
   "execution_count": 39,
   "metadata": {},
   "outputs": [],
   "source": [
    "for index, row in df.iterrows(): \n",
    "    ref = db.collection(\"nonprofits\").document(row['id'])\n",
    "\n",
    "    ref.update({\"mission_vector\": row['mission_vector']})"
   ]
  },
  {
   "cell_type": "code",
   "execution_count": null,
   "metadata": {},
   "outputs": [],
   "source": [
    "description_search = \"Payment for online art supplies\"\n",
    "search_vector = model.encode(description_search, normalize_embeddings=True).tolist() # Convert search phrase into a vector\n",
    "print(search_vector)"
   ]
  },
  {
   "cell_type": "code",
   "execution_count": null,
   "metadata": {},
   "outputs": [],
   "source": [
    "print(search_vector)\n",
    "\n",
    "with engine.connect() as conn:\n",
    "    with conn.begin():\n",
    "        sql = text(\"\"\"\n",
    "            SELECT * FROM nonprofits \n",
    "        \"\"\")\n",
    "\n",
    "        # search_vector_str = ', '.join(map(str, search_vector))  # Convert vector to string\n",
    "\n",
    "\n",
    "        results = conn.execute(sql).fetchall()\n",
    "    \n",
    "    print(results)"
   ]
  },
  {
   "cell_type": "code",
   "execution_count": null,
   "metadata": {},
   "outputs": [],
   "source": [
    "print(results)"
   ]
  },
  {
   "cell_type": "code",
   "execution_count": null,
   "metadata": {},
   "outputs": [],
   "source": [
    "results_df = pd.DataFrame(results, columns=df.columns).iloc[:, :-1] # Remove vector\n",
    "pd.set_option('display.max_colwidth', None)  # Easier to read description\n",
    "results_df.head()"
   ]
  }
 ],
 "metadata": {
  "kernelspec": {
   "display_name": "base",
   "language": "python",
   "name": "python3"
  },
  "language_info": {
   "codemirror_mode": {
    "name": "ipython",
    "version": 3
   },
   "file_extension": ".py",
   "mimetype": "text/x-python",
   "name": "python",
   "nbconvert_exporter": "python",
   "pygments_lexer": "ipython3",
   "version": "3.12.2"
  }
 },
 "nbformat": 4,
 "nbformat_minor": 2
}
