{
 "cells": [
  {
   "cell_type": "code",
   "execution_count": 3,
   "metadata": {},
   "outputs": [
    {
     "name": "stdout",
     "output_type": "stream",
     "text": [
      "2024.1: Pulling from intersystems/iris-community\n",
      "\n",
      "\u001b[1B01f39010: Pulling fs layer \n",
      "\u001b[1Ba4d2a5b9: Pulling fs layer \n",
      "\u001b[1Bb792337a: Pulling fs layer \n",
      "\u001b[1B2620f995: Pulling fs layer \n",
      "\u001b[1Bc04bcde8: Pulling fs layer \n",
      "\u001b[5Ba4d2a5b9: Downloading  76.46MB/262.1MB\u001b[6A\u001b[2K\u001b[4A\u001b[2K\u001b[6A\u001b[2K\u001b[5A\u001b[2K\u001b[6A\u001b[2K\u001b[4A\u001b[2K\u001b[6A\u001b[2K\u001b[4A\u001b[2K\u001b[6A\u001b[2K\u001b[5A\u001b[2K\u001b[4A\u001b[2K\u001b[6A\u001b[2K\u001b[4A\u001b[2K\u001b[6A\u001b[2K\u001b[4A\u001b[2K\u001b[6A\u001b[2K\u001b[6A\u001b[2K\u001b[6A\u001b[2K\u001b[5A\u001b[2K\u001b[4A\u001b[2K\u001b[6A\u001b[2K\u001b[6A\u001b[2K\u001b[5A\u001b[2K\u001b[6A\u001b[2K\u001b[4A\u001b[2K\u001b[6A\u001b[2K\u001b[6A\u001b[2K\u001b[4A\u001b[2K\u001b[5A\u001b[2K\u001b[6A\u001b[2K\u001b[4A\u001b[2K\u001b[5A\u001b[2K\u001b[4A\u001b[2K\u001b[6A\u001b[2K\u001b[6A\u001b[2K\u001b[5A\u001b[2K\u001b[6A\u001b[2K\u001b[4A\u001b[2K\u001b[6A\u001b[2K\u001b[5A\u001b[2K\u001b[6A\u001b[2K\u001b[4A\u001b[2K\u001b[6A\u001b[2K\u001b[5A\u001b[2K\u001b[6A\u001b[2K\u001b[4A\u001b[2K\u001b[6A\u001b[2K\u001b[6A\u001b[2K\u001b[4A\u001b[2K\u001b[6A\u001b[2K\u001b[6A\u001b[2K\u001b[5A\u001b[2K\u001b[6A\u001b[2K\u001b[6A\u001b[2K\u001b[6A\u001b[2K\u001b[5A\u001b[2K\u001b[6A\u001b[2K\u001b[6A\u001b[2K\u001b[6A\u001b[2K\u001b[5A\u001b[2K\u001b[4A\u001b[2K\u001b[6A\u001b[2K\u001b[6A\u001b[2K\u001b[4A\u001b[2K\u001b[5A\u001b[2K\u001b[6A\u001b[2K\u001b[6A\u001b[2K\u001b[4A\u001b[2K\u001b[5A\u001b[2K\u001b[6A\u001b[2K\u001b[6A\u001b[2K\u001b[4A\u001b[2K\u001b[6A\u001b[2K\u001b[5A\u001b[2K\u001b[6A\u001b[2K\u001b[4A\u001b[2K\u001b[6A\u001b[2K\u001b[6A\u001b[2K\u001b[5A\u001b[2K\u001b[6A\u001b[2K\u001b[4A\u001b[2K\u001b[6A\u001b[2K\u001b[5A\u001b[2K\u001b[4A\u001b[2K\u001b[6A\u001b[2K\u001b[6A\u001b[2K\u001b[4A\u001b[2K\u001b[6A\u001b[2K\u001b[6A\u001b[2K\u001b[4A\u001b[2K\u001b[6A\u001b[2K\u001b[6A\u001b[2K\u001b[6A\u001b[2K\u001b[4A\u001b[2K\u001b[5A\u001b[2K\u001b[6A\u001b[2K\u001b[6A\u001b[2K\u001b[6A\u001b[2K\u001b[5A\u001b[2K\u001b[6A\u001b[2K\u001b[4A\u001b[2K\u001b[6A\u001b[2K\u001b[5A\u001b[2K\u001b[6A\u001b[2K\u001b[4A\u001b[2K\u001b[6A\u001b[2K\u001b[6A\u001b[2K\u001b[6A\u001b[2K\u001b[4A\u001b[2K\u001b[6A\u001b[2K\u001b[6A\u001b[2K\u001b[4A\u001b[2K\u001b[6A\u001b[2K\u001b[6A\u001b[2K\u001b[4A\u001b[2K\u001b[5A\u001b[2K\u001b[6A\u001b[2K\u001b[6A\u001b[2K\u001b[4A\u001b[2K\u001b[6A\u001b[2K\u001b[5A\u001b[2K\u001b[6A\u001b[2K\u001b[6A\u001b[2K\u001b[6A\u001b[2K\u001b[6A\u001b[2K\u001b[4A\u001b[2K\u001b[6A\u001b[2K\u001b[5A\u001b[2K\u001b[4A\u001b[2K\u001b[6A\u001b[2K\u001b[5A\u001b[2K\u001b[6A\u001b[2K\u001b[4A\u001b[2K\u001b[6A\u001b[2K\u001b[5A\u001b[2K\u001b[6A\u001b[2K\u001b[6A\u001b[2K\u001b[6A\u001b[2K\u001b[6A\u001b[2K\u001b[5A\u001b[2K\u001b[6A\u001b[2K\u001b[6A\u001b[2K\u001b[5A\u001b[2K\u001b[6A\u001b[2K\u001b[6A\u001b[2K\u001b[5A\u001b[2K\u001b[4A\u001b[2K\u001b[6A\u001b[2K\u001b[6A\u001b[2K\u001b[6A\u001b[2K\u001b[6A\u001b[2K\u001b[6A\u001b[2K\u001b[5A\u001b[2K\u001b[6A\u001b[2K\u001b[6A\u001b[2K\u001b[5A\u001b[2K\u001b[6A\u001b[2K\u001b[3A\u001b[2K\u001b[3A\u001b[2K\u001b[5A\u001b[2K\u001b[4A\u001b[2K\u001b[3A\u001b[2K\u001b[3A\u001b[2K\u001b[5A\u001b[2K\u001b[3A\u001b[2K\u001b[3A\u001b[2K\u001b[3A\u001b[2K\u001b[3A\u001b[2K\u001b[3A\u001b[2K\u001b[5A\u001b[2K\u001b[4A\u001b[2K\u001b[3A\u001b[2K\u001b[3A\u001b[2K\u001b[3A\u001b[2K\u001b[3A\u001b[2K\u001b[5A\u001b[2K\u001b[3A\u001b[2K\u001b[3A\u001b[2K\u001b[5A\u001b[2K\u001b[2A\u001b[2K\u001b[2K\u001b[5A\u001b[2K\u001b[1A\u001b[2K\u001b[1A\u001b[2K\u001b[1A\u001b[2K\u001b[4A\u001b[2K\u001b[5A\u001b[2K\u001b[5A\u001b[2K\u001b[5A\u001b[2K\u001b[4A\u001b[2K\u001b[5A\u001b[2K\u001b[4A\u001b[2K\u001b[5A\u001b[2K\u001b[5A\u001b[2K\u001b[4A\u001b[2K\u001b[5A\u001b[2K\u001b[5A\u001b[2K\u001b[5A\u001b[2K\u001b[5A\u001b[2K\u001b[5A\u001b[2K\u001b[4A\u001b[2K\u001b[5A\u001b[2K\u001b[5A\u001b[2K\u001b[4A\u001b[2K\u001b[5A\u001b[2K\u001b[5A\u001b[2K\u001b[5A\u001b[2K\u001b[5A\u001b[2K\u001b[5A\u001b[2K\u001b[4A\u001b[2K\u001b[5A\u001b[2K\u001b[5A\u001b[2K\u001b[5A\u001b[2K\u001b[5A\u001b[2K\u001b[4A\u001b[2K\u001b[5A\u001b[2K\u001b[5A\u001b[2K\u001b[4A\u001b[2K\u001b[5A\u001b[2K\u001b[5A\u001b[2K\u001b[5A\u001b[2K\u001b[5A\u001b[2K\u001b[5A\u001b[2K\u001b[5A\u001b[2K\u001b[5A\u001b[2K\u001b[4A\u001b[2K\u001b[5A\u001b[2K\u001b[4A\u001b[2K\u001b[5A\u001b[2K\u001b[5A\u001b[2K\u001b[4A\u001b[2K\u001b[5A\u001b[2K\u001b[5A\u001b[2K\u001b[4A\u001b[2K\u001b[5A\u001b[2K\u001b[5A\u001b[2K\u001b[5A\u001b[2K\u001b[4A\u001b[2K\u001b[5A\u001b[2K\u001b[5A\u001b[2K\u001b[4A\u001b[2K\u001b[5A\u001b[2K\u001b[5A\u001b[2K\u001b[5A\u001b[2K\u001b[4A\u001b[2K\u001b[5A\u001b[2K\u001b[5A\u001b[2K\u001b[4A\u001b[2K\u001b[5A\u001b[2K\u001b[5A\u001b[2K\u001b[5A\u001b[2K\u001b[4A\u001b[2KDownloading  46.85MB/496.6MB\u001b[5A\u001b[2K\u001b[5A\u001b[2K\u001b[4A\u001b[2K\u001b[5A\u001b[2K\u001b[5A\u001b[2K\u001b[4A\u001b[2K\u001b[5A\u001b[2K\u001b[5A\u001b[2K\u001b[4A\u001b[2K\u001b[5A\u001b[2K\u001b[4A\u001b[2K\u001b[5A\u001b[2K\u001b[4A\u001b[2K\u001b[5A\u001b[2K\u001b[5A\u001b[2K\u001b[4A\u001b[2K\u001b[5A\u001b[2K\u001b[4A\u001b[2K\u001b[5A\u001b[2K\u001b[5A\u001b[2K\u001b[4A\u001b[2K\u001b[5A\u001b[2K\u001b[5A\u001b[2K\u001b[5A\u001b[2K\u001b[5A\u001b[2K\u001b[4A\u001b[2K\u001b[5A\u001b[2K\u001b[5A\u001b[2K\u001b[4A\u001b[2K\u001b[5A\u001b[2K\u001b[5A\u001b[2K\u001b[4A\u001b[2K\u001b[4A\u001b[2K\u001b[5A\u001b[2K\u001b[4A\u001b[2K\u001b[5A\u001b[2K\u001b[5A\u001b[2K\u001b[4A\u001b[2K\u001b[5A\u001b[2K\u001b[4A\u001b[2K\u001b[5A\u001b[2K\u001b[4A\u001b[2K\u001b[5A\u001b[2K\u001b[4A\u001b[2K\u001b[5A\u001b[2K\u001b[4A\u001b[2K\u001b[5A\u001b[2K\u001b[5A\u001b[2K\u001b[4A\u001b[2K\u001b[5A\u001b[2K\u001b[4A\u001b[2K\u001b[5A\u001b[2K\u001b[5A\u001b[2K\u001b[4A\u001b[2K\u001b[4A\u001b[2K\u001b[5A\u001b[2K\u001b[5A\u001b[2K^C\n"
     ]
    }
   ],
   "source": [
    "!docker pull containers.intersystems.com/intersystems/iris-community:2024.1"
   ]
  },
  {
   "cell_type": "code",
   "execution_count": 9,
   "metadata": {},
   "outputs": [
    {
     "name": "stdout",
     "output_type": "stream",
     "text": [
      "Collecting testcontainers.iris\n",
      "  Downloading testcontainers_iris-1.1.1-py3-none-any.whl.metadata (2.1 kB)\n",
      "Collecting testcontainers-core (from testcontainers.iris)\n",
      "  Downloading testcontainers_core-0.0.1rc1-py3-none-any.whl.metadata (338 bytes)\n",
      "Collecting sqlalchemy (from testcontainers.iris)\n",
      "  Downloading SQLAlchemy-2.0.34-cp312-cp312-macosx_11_0_arm64.whl.metadata (9.6 kB)\n",
      "Collecting sqlalchemy-iris (from testcontainers.iris)\n",
      "  Downloading sqlalchemy_iris-0.15.3-py3-none-any.whl.metadata (2.4 kB)\n",
      "Requirement already satisfied: requests<2.32.0 in /opt/homebrew/Caskroom/miniconda/base/lib/python3.12/site-packages (from testcontainers.iris) (2.31.0)\n",
      "Requirement already satisfied: charset-normalizer<4,>=2 in /opt/homebrew/Caskroom/miniconda/base/lib/python3.12/site-packages (from requests<2.32.0->testcontainers.iris) (2.0.4)\n",
      "Requirement already satisfied: idna<4,>=2.5 in /opt/homebrew/Caskroom/miniconda/base/lib/python3.12/site-packages (from requests<2.32.0->testcontainers.iris) (3.4)\n",
      "Requirement already satisfied: urllib3<3,>=1.21.1 in /opt/homebrew/Caskroom/miniconda/base/lib/python3.12/site-packages (from requests<2.32.0->testcontainers.iris) (2.1.0)\n",
      "Requirement already satisfied: certifi>=2017.4.17 in /opt/homebrew/Caskroom/miniconda/base/lib/python3.12/site-packages (from requests<2.32.0->testcontainers.iris) (2024.8.30)\n",
      "Requirement already satisfied: typing-extensions>=4.6.0 in /opt/homebrew/Caskroom/miniconda/base/lib/python3.12/site-packages (from sqlalchemy->testcontainers.iris) (4.12.2)\n",
      "Requirement already satisfied: docker>=4.0.0 in /opt/homebrew/Caskroom/miniconda/base/lib/python3.12/site-packages (from testcontainers-core->testcontainers.iris) (7.1.0)\n",
      "Requirement already satisfied: wrapt in /opt/homebrew/Caskroom/miniconda/base/lib/python3.12/site-packages (from testcontainers-core->testcontainers.iris) (1.16.0)\n",
      "Downloading testcontainers_iris-1.1.1-py3-none-any.whl (4.8 kB)\n",
      "Downloading SQLAlchemy-2.0.34-cp312-cp312-macosx_11_0_arm64.whl (2.1 MB)\n",
      "\u001b[2K   \u001b[90m━━━━━━━━━━━━━━━━━━━━━━━━━━━━━━━━━━━━━━━━\u001b[0m \u001b[32m2.1/2.1 MB\u001b[0m \u001b[31m673.5 kB/s\u001b[0m eta \u001b[36m0:00:00\u001b[0m00:01\u001b[0m00:01\u001b[0m\n",
      "\u001b[?25hDownloading sqlalchemy_iris-0.15.3-py3-none-any.whl (142 kB)\n",
      "\u001b[2K   \u001b[90m━━━━━━━━━━━━━━━━━━━━━━━━━━━━━━━━━━━━━━━\u001b[0m \u001b[32m142.2/142.2 kB\u001b[0m \u001b[31m498.6 kB/s\u001b[0m eta \u001b[36m0:00:00\u001b[0ma \u001b[36m0:00:01\u001b[0m\n",
      "\u001b[?25hDownloading testcontainers_core-0.0.1rc1-py3-none-any.whl (11 kB)\n",
      "Installing collected packages: sqlalchemy, sqlalchemy-iris, testcontainers-core, testcontainers.iris\n",
      "Successfully installed sqlalchemy-2.0.34 sqlalchemy-iris-0.15.3 testcontainers-core-0.0.1rc1 testcontainers.iris-1.1.1\n"
     ]
    }
   ],
   "source": [
    "!pip3 install testcontainers.iris"
   ]
  },
  {
   "cell_type": "code",
   "execution_count": 11,
   "metadata": {},
   "outputs": [
    {
     "name": "stderr",
     "output_type": "stream",
     "text": [
      "Pulling image containers.intersystems.com/intersystems/iris-community:2024.1\n",
      "Container started: 5cfd736bd211\n",
      "Waiting to be ready...\n"
     ]
    }
   ],
   "source": [
    "from testcontainers.iris import IRISContainer\n",
    "import os\n",
    "\n",
    "image = 'containers.intersystems.com/intersystems/iris-community:2024.1'\n",
    "container = IRISContainer(image, username=\"demo\", password=\"demo\", namespace=\"demo\")\n",
    "container.with_exposed_ports(1972, 52773)\n",
    "container.start()\n",
    "CONNECTION_STRING = container.get_connection_url(\"localhost\")"
   ]
  },
  {
   "cell_type": "code",
   "execution_count": 15,
   "metadata": {},
   "outputs": [
    {
     "name": "stdout",
     "output_type": "stream",
     "text": [
      "Collecting pandas\n",
      "  Downloading pandas-2.2.2-cp312-cp312-macosx_11_0_arm64.whl.metadata (19 kB)\n",
      "Collecting numpy>=1.26.0 (from pandas)\n",
      "  Downloading numpy-2.1.1-cp312-cp312-macosx_14_0_arm64.whl.metadata (60 kB)\n",
      "\u001b[2K     \u001b[90m━━━━━━━━━━━━━━━━━━━━━━━━━━━━━━━━━━━━━━━\u001b[0m \u001b[32m60.9/60.9 kB\u001b[0m \u001b[31m501.7 kB/s\u001b[0m eta \u001b[36m0:00:00\u001b[0ma \u001b[36m0:00:01\u001b[0m\n",
      "\u001b[?25hRequirement already satisfied: python-dateutil>=2.8.2 in /opt/homebrew/Caskroom/miniconda/base/lib/python3.12/site-packages (from pandas) (2.9.0)\n",
      "Collecting pytz>=2020.1 (from pandas)\n",
      "  Downloading pytz-2024.2-py2.py3-none-any.whl.metadata (22 kB)\n",
      "Collecting tzdata>=2022.7 (from pandas)\n",
      "  Using cached tzdata-2024.1-py2.py3-none-any.whl.metadata (1.4 kB)\n",
      "Requirement already satisfied: six>=1.5 in /opt/homebrew/Caskroom/miniconda/base/lib/python3.12/site-packages (from python-dateutil>=2.8.2->pandas) (1.16.0)\n",
      "Downloading pandas-2.2.2-cp312-cp312-macosx_11_0_arm64.whl (11.3 MB)\n",
      "\u001b[2K   \u001b[90m━━━━━━━━━━━━━━━━━━━━━━━━━━━━━━━━━━━━━━━━\u001b[0m \u001b[32m11.3/11.3 MB\u001b[0m \u001b[31m441.8 kB/s\u001b[0m eta \u001b[36m0:00:00\u001b[0m00:01\u001b[0m00:01\u001b[0m\n",
      "\u001b[?25hDownloading numpy-2.1.1-cp312-cp312-macosx_14_0_arm64.whl (5.1 MB)\n",
      "\u001b[2K   \u001b[90m━━━━━━━━━━━━━━━━━━━━━━━━━━━━━━━━━━━━━━━━\u001b[0m \u001b[32m5.1/5.1 MB\u001b[0m \u001b[31m916.6 kB/s\u001b[0m eta \u001b[36m0:00:00\u001b[0m00:01\u001b[0m00:01\u001b[0m\n",
      "\u001b[?25hDownloading pytz-2024.2-py2.py3-none-any.whl (508 kB)\n",
      "\u001b[2K   \u001b[90m━━━━━━━━━━━━━━━━━━━━━━━━━━━━━━━━━━━━━━━━\u001b[0m \u001b[32m508.0/508.0 kB\u001b[0m \u001b[31m1.5 MB/s\u001b[0m eta \u001b[36m0:00:00\u001b[0ma \u001b[36m0:00:01\u001b[0m\n",
      "\u001b[?25hUsing cached tzdata-2024.1-py2.py3-none-any.whl (345 kB)\n",
      "Installing collected packages: pytz, tzdata, numpy, pandas\n",
      "Successfully installed numpy-2.1.1 pandas-2.2.2 pytz-2024.2 tzdata-2024.1\n",
      "Collecting sentence_transformers\n",
      "  Downloading sentence_transformers-3.1.0-py3-none-any.whl.metadata (23 kB)\n",
      "Collecting transformers<5.0.0,>=4.38.0 (from sentence_transformers)\n",
      "  Downloading transformers-4.44.2-py3-none-any.whl.metadata (43 kB)\n",
      "\u001b[2K     \u001b[90m━━━━━━━━━━━━━━━━━━━━━━━━━━━━━━━━━━━━━━━━\u001b[0m \u001b[32m43.7/43.7 kB\u001b[0m \u001b[31m3.4 MB/s\u001b[0m eta \u001b[36m0:00:00\u001b[0mta \u001b[36m0:00:01\u001b[0m\n",
      "\u001b[?25hRequirement already satisfied: tqdm in /opt/homebrew/Caskroom/miniconda/base/lib/python3.12/site-packages (from sentence_transformers) (4.65.0)\n",
      "Collecting torch>=1.11.0 (from sentence_transformers)\n",
      "  Downloading torch-2.4.1-cp312-none-macosx_11_0_arm64.whl.metadata (26 kB)\n",
      "Collecting numpy<2.0.0 (from sentence_transformers)\n",
      "  Downloading numpy-1.26.4-cp312-cp312-macosx_11_0_arm64.whl.metadata (61 kB)\n",
      "\u001b[2K     \u001b[90m━━━━━━━━━━━━━━━━━━━━━━━━━━━━━━━━━━━━━━━━\u001b[0m \u001b[32m61.1/61.1 kB\u001b[0m \u001b[31m6.3 MB/s\u001b[0m eta \u001b[36m0:00:00\u001b[0m\n",
      "\u001b[?25hCollecting scikit-learn (from sentence_transformers)\n",
      "  Downloading scikit_learn-1.5.2-cp312-cp312-macosx_12_0_arm64.whl.metadata (13 kB)\n",
      "Collecting scipy (from sentence_transformers)\n",
      "  Downloading scipy-1.14.1-cp312-cp312-macosx_14_0_arm64.whl.metadata (60 kB)\n",
      "\u001b[2K     \u001b[90m━━━━━━━━━━━━━━━━━━━━━━━━━━━━━━━━━━━━━━━━\u001b[0m \u001b[32m60.8/60.8 kB\u001b[0m \u001b[31m1.9 MB/s\u001b[0m eta \u001b[36m0:00:00\u001b[0m\n",
      "\u001b[?25hCollecting huggingface-hub>=0.19.3 (from sentence_transformers)\n",
      "  Downloading huggingface_hub-0.24.7-py3-none-any.whl.metadata (13 kB)\n",
      "Collecting Pillow (from sentence_transformers)\n",
      "  Downloading pillow-10.4.0-cp312-cp312-macosx_11_0_arm64.whl.metadata (9.2 kB)\n",
      "Collecting filelock (from huggingface-hub>=0.19.3->sentence_transformers)\n",
      "  Downloading filelock-3.16.0-py3-none-any.whl.metadata (3.0 kB)\n",
      "Collecting fsspec>=2023.5.0 (from huggingface-hub>=0.19.3->sentence_transformers)\n",
      "  Downloading fsspec-2024.9.0-py3-none-any.whl.metadata (11 kB)\n",
      "Requirement already satisfied: packaging>=20.9 in /opt/homebrew/Caskroom/miniconda/base/lib/python3.12/site-packages (from huggingface-hub>=0.19.3->sentence_transformers) (23.2)\n",
      "Collecting pyyaml>=5.1 (from huggingface-hub>=0.19.3->sentence_transformers)\n",
      "  Downloading PyYAML-6.0.2-cp312-cp312-macosx_11_0_arm64.whl.metadata (2.1 kB)\n",
      "Requirement already satisfied: requests in /opt/homebrew/Caskroom/miniconda/base/lib/python3.12/site-packages (from huggingface-hub>=0.19.3->sentence_transformers) (2.31.0)\n",
      "Requirement already satisfied: typing-extensions>=3.7.4.3 in /opt/homebrew/Caskroom/miniconda/base/lib/python3.12/site-packages (from huggingface-hub>=0.19.3->sentence_transformers) (4.12.2)\n",
      "Collecting sympy (from torch>=1.11.0->sentence_transformers)\n",
      "  Downloading sympy-1.13.2-py3-none-any.whl.metadata (12 kB)\n",
      "Collecting networkx (from torch>=1.11.0->sentence_transformers)\n",
      "  Using cached networkx-3.3-py3-none-any.whl.metadata (5.1 kB)\n",
      "Collecting jinja2 (from torch>=1.11.0->sentence_transformers)\n",
      "  Downloading jinja2-3.1.4-py3-none-any.whl.metadata (2.6 kB)\n",
      "Requirement already satisfied: setuptools in /opt/homebrew/Caskroom/miniconda/base/lib/python3.12/site-packages (from torch>=1.11.0->sentence_transformers) (68.2.2)\n",
      "Collecting regex!=2019.12.17 (from transformers<5.0.0,>=4.38.0->sentence_transformers)\n",
      "  Downloading regex-2024.9.11-cp312-cp312-macosx_11_0_arm64.whl.metadata (40 kB)\n",
      "\u001b[2K     \u001b[90m━━━━━━━━━━━━━━━━━━━━━━━━━━━━━━━━━━━━━━━\u001b[0m \u001b[32m40.5/40.5 kB\u001b[0m \u001b[31m696.8 kB/s\u001b[0m eta \u001b[36m0:00:00\u001b[0m:--:--\u001b[0m\n",
      "\u001b[?25hCollecting safetensors>=0.4.1 (from transformers<5.0.0,>=4.38.0->sentence_transformers)\n",
      "  Downloading safetensors-0.4.5-cp312-cp312-macosx_11_0_arm64.whl.metadata (3.8 kB)\n",
      "Collecting tokenizers<0.20,>=0.19 (from transformers<5.0.0,>=4.38.0->sentence_transformers)\n",
      "  Downloading tokenizers-0.19.1-cp312-cp312-macosx_11_0_arm64.whl.metadata (6.7 kB)\n",
      "Collecting joblib>=1.2.0 (from scikit-learn->sentence_transformers)\n",
      "  Downloading joblib-1.4.2-py3-none-any.whl.metadata (5.4 kB)\n",
      "Collecting threadpoolctl>=3.1.0 (from scikit-learn->sentence_transformers)\n",
      "  Downloading threadpoolctl-3.5.0-py3-none-any.whl.metadata (13 kB)\n",
      "Collecting MarkupSafe>=2.0 (from jinja2->torch>=1.11.0->sentence_transformers)\n",
      "  Downloading MarkupSafe-2.1.5-cp312-cp312-macosx_10_9_universal2.whl.metadata (3.0 kB)\n",
      "Requirement already satisfied: charset-normalizer<4,>=2 in /opt/homebrew/Caskroom/miniconda/base/lib/python3.12/site-packages (from requests->huggingface-hub>=0.19.3->sentence_transformers) (2.0.4)\n",
      "Requirement already satisfied: idna<4,>=2.5 in /opt/homebrew/Caskroom/miniconda/base/lib/python3.12/site-packages (from requests->huggingface-hub>=0.19.3->sentence_transformers) (3.4)\n",
      "Requirement already satisfied: urllib3<3,>=1.21.1 in /opt/homebrew/Caskroom/miniconda/base/lib/python3.12/site-packages (from requests->huggingface-hub>=0.19.3->sentence_transformers) (2.1.0)\n",
      "Requirement already satisfied: certifi>=2017.4.17 in /opt/homebrew/Caskroom/miniconda/base/lib/python3.12/site-packages (from requests->huggingface-hub>=0.19.3->sentence_transformers) (2024.8.30)\n",
      "Collecting mpmath<1.4,>=1.1.0 (from sympy->torch>=1.11.0->sentence_transformers)\n",
      "  Using cached mpmath-1.3.0-py3-none-any.whl.metadata (8.6 kB)\n",
      "Downloading sentence_transformers-3.1.0-py3-none-any.whl (249 kB)\n",
      "\u001b[2K   \u001b[90m━━━━━━━━━━━━━━━━━━━━━━━━━━━━━━━━━━━━━━━\u001b[0m \u001b[32m249.1/249.1 kB\u001b[0m \u001b[31m982.6 kB/s\u001b[0m eta \u001b[36m0:00:00\u001b[0m \u001b[36m0:00:01\u001b[0mm\n",
      "\u001b[?25hDownloading huggingface_hub-0.24.7-py3-none-any.whl (417 kB)\n",
      "\u001b[2K   \u001b[90m━━━━━━━━━━━━━━━━━━━━━━━━━━━━━━━━━━━━━━━\u001b[0m \u001b[32m417.5/417.5 kB\u001b[0m \u001b[31m978.7 kB/s\u001b[0m eta \u001b[36m0:00:00\u001b[0ma \u001b[36m0:00:01\u001b[0m\n",
      "\u001b[?25hDownloading numpy-1.26.4-cp312-cp312-macosx_11_0_arm64.whl (13.7 MB)\n",
      "\u001b[2K   \u001b[90m━━━━━━━━━━━━━━━━━━━━━━━━━━━━━━━━━━━━━━━━\u001b[0m \u001b[32m13.7/13.7 MB\u001b[0m \u001b[31m1.6 MB/s\u001b[0m eta \u001b[36m0:00:00\u001b[0m00:01\u001b[0m00:01\u001b[0mm\n",
      "\u001b[?25hDownloading torch-2.4.1-cp312-none-macosx_11_0_arm64.whl (62.1 MB)\n",
      "\u001b[2K   \u001b[90m━━━━━━━━━━━━━━━━━━━━━━━━━━━━━━━━━━━━━━━━\u001b[0m \u001b[32m62.1/62.1 MB\u001b[0m \u001b[31m1.7 MB/s\u001b[0m eta \u001b[36m0:00:00\u001b[0m00:01\u001b[0m00:02\u001b[0m\n",
      "\u001b[?25hDownloading transformers-4.44.2-py3-none-any.whl (9.5 MB)\n",
      "\u001b[2K   \u001b[90m━━━━━━━━━━━━━━━━━━━━━━━━━━━━━━━━━━━━━━━━\u001b[0m \u001b[32m9.5/9.5 MB\u001b[0m \u001b[31m1.9 MB/s\u001b[0m eta \u001b[36m0:00:00\u001b[0m00:01\u001b[0m00:01\u001b[0m\n",
      "\u001b[?25hDownloading pillow-10.4.0-cp312-cp312-macosx_11_0_arm64.whl (3.4 MB)\n",
      "\u001b[2K   \u001b[90m━━━━━━━━━━━━━━━━━━━━━━━━━━━━━━━━━━━━━━━━\u001b[0m \u001b[32m3.4/3.4 MB\u001b[0m \u001b[31m1.4 MB/s\u001b[0m eta \u001b[36m0:00:00\u001b[0m00:01\u001b[0m00:01\u001b[0m\n",
      "\u001b[?25hDownloading scikit_learn-1.5.2-cp312-cp312-macosx_12_0_arm64.whl (11.0 MB)\n",
      "\u001b[2K   \u001b[90m━━━━━━━━━━━━━━━━━━━━━━━━━━━━━━━━━━━━━━━━\u001b[0m \u001b[32m11.0/11.0 MB\u001b[0m \u001b[31m1.7 MB/s\u001b[0m eta \u001b[36m0:00:00\u001b[0m00:01\u001b[0m00:01\u001b[0m\n",
      "\u001b[?25hDownloading scipy-1.14.1-cp312-cp312-macosx_14_0_arm64.whl (23.1 MB)\n",
      "\u001b[2K   \u001b[90m━━━━━━━━━━━━━━━━━━━━━━━━━━━━━━━━━━━━━━━━\u001b[0m \u001b[32m23.1/23.1 MB\u001b[0m \u001b[31m692.6 kB/s\u001b[0m eta \u001b[36m0:00:00\u001b[0m00:01\u001b[0m00:01\u001b[0m\n",
      "\u001b[?25hDownloading fsspec-2024.9.0-py3-none-any.whl (179 kB)\n",
      "\u001b[2K   \u001b[90m━━━━━━━━━━━━━━━━━━━━━━━━━━━━━━━━━━━━━━━━\u001b[0m \u001b[32m179.3/179.3 kB\u001b[0m \u001b[31m2.6 MB/s\u001b[0m eta \u001b[36m0:00:00\u001b[0ma \u001b[36m0:00:01\u001b[0m\n",
      "\u001b[?25hDownloading joblib-1.4.2-py3-none-any.whl (301 kB)\n",
      "\u001b[2K   \u001b[90m━━━━━━━━━━━━━━━━━━━━━━━━━━━━━━━━━━━━━━━━\u001b[0m \u001b[32m301.8/301.8 kB\u001b[0m \u001b[31m2.0 MB/s\u001b[0m eta \u001b[36m0:00:00\u001b[0ma \u001b[36m0:00:01\u001b[0m\n",
      "\u001b[?25hDownloading PyYAML-6.0.2-cp312-cp312-macosx_11_0_arm64.whl (173 kB)\n",
      "\u001b[2K   \u001b[90m━━━━━━━━━━━━━━━━━━━━━━━━━━━━━━━━━━━━━━━━\u001b[0m \u001b[32m173.3/173.3 kB\u001b[0m \u001b[31m1.7 MB/s\u001b[0m eta \u001b[36m0:00:00\u001b[0ma \u001b[36m0:00:01\u001b[0m\n",
      "\u001b[?25hDownloading regex-2024.9.11-cp312-cp312-macosx_11_0_arm64.whl (284 kB)\n",
      "\u001b[2K   \u001b[90m━━━━━━━━━━━━━━━━━━━━━━━━━━━━━━━━━━━━━━━━\u001b[0m \u001b[32m284.7/284.7 kB\u001b[0m \u001b[31m2.2 MB/s\u001b[0m eta \u001b[36m0:00:00\u001b[0ma \u001b[36m0:00:01\u001b[0m\n",
      "\u001b[?25hDownloading safetensors-0.4.5-cp312-cp312-macosx_11_0_arm64.whl (381 kB)\n",
      "\u001b[2K   \u001b[90m━━━━━━━━━━━━━━━━━━━━━━━━━━━━━━━━━━━━━━━\u001b[0m \u001b[32m381.8/381.8 kB\u001b[0m \u001b[31m786.4 kB/s\u001b[0m eta \u001b[36m0:00:00\u001b[0ma \u001b[36m0:00:01\u001b[0m\n",
      "\u001b[?25hDownloading threadpoolctl-3.5.0-py3-none-any.whl (18 kB)\n",
      "Downloading tokenizers-0.19.1-cp312-cp312-macosx_11_0_arm64.whl (2.4 MB)\n",
      "\u001b[2K   \u001b[90m━━━━━━━━━━━━━━━━━━━━━━━━━━━━━━━━━━━━━━━━\u001b[0m \u001b[32m2.4/2.4 MB\u001b[0m \u001b[31m783.3 kB/s\u001b[0m eta \u001b[36m0:00:00\u001b[0m00:01\u001b[0m00:01\u001b[0m\n",
      "\u001b[?25hDownloading filelock-3.16.0-py3-none-any.whl (16 kB)\n",
      "Downloading jinja2-3.1.4-py3-none-any.whl (133 kB)\n",
      "\u001b[2K   \u001b[90m━━━━━━━━━━━━━━━━━━━━━━━━━━━━━━━━━━━━━━━━\u001b[0m \u001b[32m133.3/133.3 kB\u001b[0m \u001b[31m1.6 MB/s\u001b[0m eta \u001b[36m0:00:00\u001b[0m \u001b[36m0:00:01\u001b[0m\n",
      "\u001b[?25hUsing cached networkx-3.3-py3-none-any.whl (1.7 MB)\n",
      "Downloading sympy-1.13.2-py3-none-any.whl (6.2 MB)\n",
      "\u001b[2K   \u001b[90m━━━━━━━━━━━━━━━━━━━━━━━━━━━━━━━━━━━━━━━━\u001b[0m \u001b[32m6.2/6.2 MB\u001b[0m \u001b[31m1.1 MB/s\u001b[0m eta \u001b[36m0:00:00\u001b[0m00:01\u001b[0m00:01\u001b[0m0m\n",
      "\u001b[?25hDownloading MarkupSafe-2.1.5-cp312-cp312-macosx_10_9_universal2.whl (18 kB)\n",
      "Using cached mpmath-1.3.0-py3-none-any.whl (536 kB)\n",
      "Installing collected packages: mpmath, threadpoolctl, sympy, safetensors, regex, pyyaml, Pillow, numpy, networkx, MarkupSafe, joblib, fsspec, filelock, scipy, jinja2, huggingface-hub, torch, tokenizers, scikit-learn, transformers, sentence_transformers\n",
      "  Attempting uninstall: numpy\n",
      "    Found existing installation: numpy 2.1.1\n",
      "    Uninstalling numpy-2.1.1:\n",
      "      Successfully uninstalled numpy-2.1.1\n",
      "Successfully installed MarkupSafe-2.1.5 Pillow-10.4.0 filelock-3.16.0 fsspec-2024.9.0 huggingface-hub-0.24.7 jinja2-3.1.4 joblib-1.4.2 mpmath-1.3.0 networkx-3.3 numpy-1.26.4 pyyaml-6.0.2 regex-2024.9.11 safetensors-0.4.5 scikit-learn-1.5.2 scipy-1.14.1 sentence_transformers-3.1.0 sympy-1.13.2 threadpoolctl-3.5.0 tokenizers-0.19.1 torch-2.4.1 transformers-4.44.2\n",
      "Requirement already satisfied: sqlalchemy in /opt/homebrew/Caskroom/miniconda/base/lib/python3.12/site-packages (2.0.34)\n",
      "Requirement already satisfied: typing-extensions>=4.6.0 in /opt/homebrew/Caskroom/miniconda/base/lib/python3.12/site-packages (from sqlalchemy) (4.12.2)\n"
     ]
    }
   ],
   "source": [
    "!pip3 install pandas\n",
    "!pip3 install sentence_transformers\n",
    "!pip3 install sqlalchemy"
   ]
  },
  {
   "cell_type": "code",
   "execution_count": 16,
   "metadata": {},
   "outputs": [
    {
     "name": "stderr",
     "output_type": "stream",
     "text": [
      "/opt/homebrew/Caskroom/miniconda/base/lib/python3.12/site-packages/sentence_transformers/cross_encoder/CrossEncoder.py:13: TqdmWarning: IProgress not found. Please update jupyter and ipywidgets. See https://ipywidgets.readthedocs.io/en/stable/user_install.html\n",
      "  from tqdm.autonotebook import tqdm, trange\n"
     ]
    }
   ],
   "source": [
    "\n",
    "import os, pandas as pd\n",
    "from sentence_transformers import SentenceTransformer\n",
    "from sqlalchemy import create_engine, text"
   ]
  },
  {
   "cell_type": "code",
   "execution_count": 17,
   "metadata": {},
   "outputs": [],
   "source": [
    "engine = create_engine(CONNECTION_STRING)"
   ]
  },
  {
   "cell_type": "code",
   "execution_count": 19,
   "metadata": {},
   "outputs": [
    {
     "name": "stdout",
     "output_type": "stream",
     "text": [
      "Collecting firebase_admin\n",
      "  Using cached firebase_admin-6.5.0-py3-none-any.whl.metadata (1.5 kB)\n",
      "Collecting cachecontrol>=0.12.6 (from firebase_admin)\n",
      "  Using cached cachecontrol-0.14.0-py3-none-any.whl.metadata (3.1 kB)\n",
      "Collecting google-api-python-client>=1.7.8 (from firebase_admin)\n",
      "  Using cached google_api_python_client-2.145.0-py2.py3-none-any.whl.metadata (6.7 kB)\n",
      "Collecting google-cloud-storage>=1.37.1 (from firebase_admin)\n",
      "  Using cached google_cloud_storage-2.18.2-py2.py3-none-any.whl.metadata (9.1 kB)\n",
      "Collecting pyjwt>=2.5.0 (from pyjwt[crypto]>=2.5.0->firebase_admin)\n",
      "  Using cached PyJWT-2.9.0-py3-none-any.whl.metadata (3.0 kB)\n",
      "Collecting google-api-core<3.0.0dev,>=1.22.1 (from google-api-core[grpc]<3.0.0dev,>=1.22.1; platform_python_implementation != \"PyPy\"->firebase_admin)\n",
      "  Using cached google_api_core-2.19.2-py3-none-any.whl.metadata (2.7 kB)\n",
      "Collecting google-cloud-firestore>=2.9.1 (from firebase_admin)\n",
      "  Using cached google_cloud_firestore-2.18.0-py2.py3-none-any.whl.metadata (5.7 kB)\n",
      "Requirement already satisfied: requests>=2.16.0 in /opt/homebrew/Caskroom/miniconda/base/lib/python3.12/site-packages (from cachecontrol>=0.12.6->firebase_admin) (2.31.0)\n",
      "Collecting msgpack<2.0.0,>=0.5.2 (from cachecontrol>=0.12.6->firebase_admin)\n",
      "  Downloading msgpack-1.1.0-cp312-cp312-macosx_11_0_arm64.whl.metadata (8.4 kB)\n",
      "Collecting googleapis-common-protos<2.0.dev0,>=1.56.2 (from google-api-core<3.0.0dev,>=1.22.1->google-api-core[grpc]<3.0.0dev,>=1.22.1; platform_python_implementation != \"PyPy\"->firebase_admin)\n",
      "  Using cached googleapis_common_protos-1.65.0-py2.py3-none-any.whl.metadata (1.5 kB)\n",
      "Collecting protobuf!=3.20.0,!=3.20.1,!=4.21.0,!=4.21.1,!=4.21.2,!=4.21.3,!=4.21.4,!=4.21.5,<6.0.0.dev0,>=3.19.5 (from google-api-core<3.0.0dev,>=1.22.1->google-api-core[grpc]<3.0.0dev,>=1.22.1; platform_python_implementation != \"PyPy\"->firebase_admin)\n",
      "  Downloading protobuf-5.28.1-cp38-abi3-macosx_10_9_universal2.whl.metadata (592 bytes)\n",
      "Collecting proto-plus<2.0.0dev,>=1.22.3 (from google-api-core<3.0.0dev,>=1.22.1->google-api-core[grpc]<3.0.0dev,>=1.22.1; platform_python_implementation != \"PyPy\"->firebase_admin)\n",
      "  Using cached proto_plus-1.24.0-py3-none-any.whl.metadata (2.2 kB)\n",
      "Collecting google-auth<3.0.dev0,>=2.14.1 (from google-api-core<3.0.0dev,>=1.22.1->google-api-core[grpc]<3.0.0dev,>=1.22.1; platform_python_implementation != \"PyPy\"->firebase_admin)\n",
      "  Using cached google_auth-2.34.0-py2.py3-none-any.whl.metadata (4.7 kB)\n",
      "Collecting grpcio<2.0dev,>=1.33.2 (from google-api-core[grpc]<3.0.0dev,>=1.22.1; platform_python_implementation != \"PyPy\"->firebase_admin)\n",
      "  Downloading grpcio-1.66.1-cp312-cp312-macosx_10_9_universal2.whl.metadata (3.9 kB)\n",
      "Collecting grpcio-status<2.0.dev0,>=1.33.2 (from google-api-core[grpc]<3.0.0dev,>=1.22.1; platform_python_implementation != \"PyPy\"->firebase_admin)\n",
      "  Using cached grpcio_status-1.66.1-py3-none-any.whl.metadata (1.1 kB)\n",
      "Collecting httplib2<1.dev0,>=0.19.0 (from google-api-python-client>=1.7.8->firebase_admin)\n",
      "  Using cached httplib2-0.22.0-py3-none-any.whl.metadata (2.6 kB)\n",
      "Collecting google-auth-httplib2<1.0.0,>=0.2.0 (from google-api-python-client>=1.7.8->firebase_admin)\n",
      "  Using cached google_auth_httplib2-0.2.0-py2.py3-none-any.whl.metadata (2.2 kB)\n",
      "Collecting uritemplate<5,>=3.0.1 (from google-api-python-client>=1.7.8->firebase_admin)\n",
      "  Using cached uritemplate-4.1.1-py2.py3-none-any.whl.metadata (2.9 kB)\n",
      "Collecting google-cloud-core<3.0.0dev,>=1.4.1 (from google-cloud-firestore>=2.9.1->firebase_admin)\n",
      "  Using cached google_cloud_core-2.4.1-py2.py3-none-any.whl.metadata (2.7 kB)\n",
      "Collecting google-resumable-media>=2.7.2 (from google-cloud-storage>=1.37.1->firebase_admin)\n",
      "  Using cached google_resumable_media-2.7.2-py2.py3-none-any.whl.metadata (2.2 kB)\n",
      "Collecting google-crc32c<2.0dev,>=1.0 (from google-cloud-storage>=1.37.1->firebase_admin)\n",
      "  Downloading google_crc32c-1.6.0-cp312-cp312-macosx_12_0_arm64.whl.metadata (2.3 kB)\n",
      "Requirement already satisfied: cryptography>=3.4.0 in /opt/homebrew/Caskroom/miniconda/base/lib/python3.12/site-packages (from pyjwt[crypto]>=2.5.0->firebase_admin) (42.0.5)\n",
      "Requirement already satisfied: cffi>=1.12 in /opt/homebrew/Caskroom/miniconda/base/lib/python3.12/site-packages (from cryptography>=3.4.0->pyjwt[crypto]>=2.5.0->firebase_admin) (1.16.0)\n",
      "Collecting cachetools<6.0,>=2.0.0 (from google-auth<3.0.dev0,>=2.14.1->google-api-core<3.0.0dev,>=1.22.1->google-api-core[grpc]<3.0.0dev,>=1.22.1; platform_python_implementation != \"PyPy\"->firebase_admin)\n",
      "  Using cached cachetools-5.5.0-py3-none-any.whl.metadata (5.3 kB)\n",
      "Collecting pyasn1-modules>=0.2.1 (from google-auth<3.0.dev0,>=2.14.1->google-api-core<3.0.0dev,>=1.22.1->google-api-core[grpc]<3.0.0dev,>=1.22.1; platform_python_implementation != \"PyPy\"->firebase_admin)\n",
      "  Using cached pyasn1_modules-0.4.1-py3-none-any.whl.metadata (3.5 kB)\n",
      "Collecting rsa<5,>=3.1.4 (from google-auth<3.0.dev0,>=2.14.1->google-api-core<3.0.0dev,>=1.22.1->google-api-core[grpc]<3.0.0dev,>=1.22.1; platform_python_implementation != \"PyPy\"->firebase_admin)\n",
      "  Using cached rsa-4.9-py3-none-any.whl.metadata (4.2 kB)\n",
      "Collecting pyparsing!=3.0.0,!=3.0.1,!=3.0.2,!=3.0.3,<4,>=2.4.2 (from httplib2<1.dev0,>=0.19.0->google-api-python-client>=1.7.8->firebase_admin)\n",
      "  Downloading pyparsing-3.1.4-py3-none-any.whl.metadata (5.1 kB)\n",
      "Requirement already satisfied: charset-normalizer<4,>=2 in /opt/homebrew/Caskroom/miniconda/base/lib/python3.12/site-packages (from requests>=2.16.0->cachecontrol>=0.12.6->firebase_admin) (2.0.4)\n",
      "Requirement already satisfied: idna<4,>=2.5 in /opt/homebrew/Caskroom/miniconda/base/lib/python3.12/site-packages (from requests>=2.16.0->cachecontrol>=0.12.6->firebase_admin) (3.4)\n",
      "Requirement already satisfied: urllib3<3,>=1.21.1 in /opt/homebrew/Caskroom/miniconda/base/lib/python3.12/site-packages (from requests>=2.16.0->cachecontrol>=0.12.6->firebase_admin) (2.1.0)\n",
      "Requirement already satisfied: certifi>=2017.4.17 in /opt/homebrew/Caskroom/miniconda/base/lib/python3.12/site-packages (from requests>=2.16.0->cachecontrol>=0.12.6->firebase_admin) (2024.8.30)\n",
      "Requirement already satisfied: pycparser in /opt/homebrew/Caskroom/miniconda/base/lib/python3.12/site-packages (from cffi>=1.12->cryptography>=3.4.0->pyjwt[crypto]>=2.5.0->firebase_admin) (2.21)\n",
      "Collecting pyasn1<0.7.0,>=0.4.6 (from pyasn1-modules>=0.2.1->google-auth<3.0.dev0,>=2.14.1->google-api-core<3.0.0dev,>=1.22.1->google-api-core[grpc]<3.0.0dev,>=1.22.1; platform_python_implementation != \"PyPy\"->firebase_admin)\n",
      "  Using cached pyasn1-0.6.1-py3-none-any.whl.metadata (8.4 kB)\n",
      "Using cached firebase_admin-6.5.0-py3-none-any.whl (126 kB)\n",
      "Using cached cachecontrol-0.14.0-py3-none-any.whl (22 kB)\n",
      "Using cached google_api_core-2.19.2-py3-none-any.whl (139 kB)\n",
      "Using cached google_api_python_client-2.145.0-py2.py3-none-any.whl (12.2 MB)\n",
      "Using cached google_cloud_firestore-2.18.0-py2.py3-none-any.whl (326 kB)\n",
      "Using cached google_cloud_storage-2.18.2-py2.py3-none-any.whl (130 kB)\n",
      "Using cached PyJWT-2.9.0-py3-none-any.whl (22 kB)\n",
      "Using cached google_auth-2.34.0-py2.py3-none-any.whl (200 kB)\n",
      "Using cached google_auth_httplib2-0.2.0-py2.py3-none-any.whl (9.3 kB)\n",
      "Using cached google_cloud_core-2.4.1-py2.py3-none-any.whl (29 kB)\n",
      "Downloading google_crc32c-1.6.0-cp312-cp312-macosx_12_0_arm64.whl (30 kB)\n",
      "Using cached google_resumable_media-2.7.2-py2.py3-none-any.whl (81 kB)\n",
      "Using cached googleapis_common_protos-1.65.0-py2.py3-none-any.whl (220 kB)\n",
      "Downloading grpcio-1.66.1-cp312-cp312-macosx_10_9_universal2.whl (10.6 MB)\n",
      "\u001b[2K   \u001b[90m━━━━━━━━━━━━━━━━━━━━━━━━━━━━━━━━━━━━━━━━\u001b[0m \u001b[32m10.6/10.6 MB\u001b[0m \u001b[31m1.3 MB/s\u001b[0m eta \u001b[36m0:00:00\u001b[0m00:01\u001b[0m00:01\u001b[0mm\n",
      "\u001b[?25hUsing cached grpcio_status-1.66.1-py3-none-any.whl (14 kB)\n",
      "Using cached httplib2-0.22.0-py3-none-any.whl (96 kB)\n",
      "Downloading msgpack-1.1.0-cp312-cp312-macosx_11_0_arm64.whl (82 kB)\n",
      "\u001b[2K   \u001b[90m━━━━━━━━━━━━━━━━━━━━━━━━━━━━━━━━━━━━━━━━\u001b[0m \u001b[32m82.2/82.2 kB\u001b[0m \u001b[31m1.9 MB/s\u001b[0m eta \u001b[36m0:00:00\u001b[0mta \u001b[36m0:00:01\u001b[0m\n",
      "\u001b[?25hUsing cached proto_plus-1.24.0-py3-none-any.whl (50 kB)\n",
      "Downloading protobuf-5.28.1-cp38-abi3-macosx_10_9_universal2.whl (414 kB)\n",
      "\u001b[2K   \u001b[90m━━━━━━━━━━━━━━━━━━━━━━━━━━━━━━━━━━━━━━━━\u001b[0m \u001b[32m414.7/414.7 kB\u001b[0m \u001b[31m2.0 MB/s\u001b[0m eta \u001b[36m0:00:00\u001b[0ma \u001b[36m0:00:01\u001b[0m\n",
      "\u001b[?25hUsing cached uritemplate-4.1.1-py2.py3-none-any.whl (10 kB)\n",
      "Using cached cachetools-5.5.0-py3-none-any.whl (9.5 kB)\n",
      "Using cached pyasn1_modules-0.4.1-py3-none-any.whl (181 kB)\n",
      "Downloading pyparsing-3.1.4-py3-none-any.whl (104 kB)\n",
      "\u001b[2K   \u001b[90m━━━━━━━━━━━━━━━━━━━━━━━━━━━━━━━━━━━━━━━━\u001b[0m \u001b[32m104.1/104.1 kB\u001b[0m \u001b[31m1.8 MB/s\u001b[0m eta \u001b[36m0:00:00\u001b[0m:--:--\u001b[0m\n",
      "\u001b[?25hUsing cached rsa-4.9-py3-none-any.whl (34 kB)\n",
      "Using cached pyasn1-0.6.1-py3-none-any.whl (83 kB)\n",
      "Installing collected packages: uritemplate, pyparsing, pyjwt, pyasn1, protobuf, msgpack, grpcio, google-crc32c, cachetools, rsa, pyasn1-modules, proto-plus, httplib2, googleapis-common-protos, google-resumable-media, cachecontrol, grpcio-status, google-auth, google-auth-httplib2, google-api-core, google-cloud-core, google-api-python-client, google-cloud-storage, google-cloud-firestore, firebase_admin\n",
      "Successfully installed cachecontrol-0.14.0 cachetools-5.5.0 firebase_admin-6.5.0 google-api-core-2.19.2 google-api-python-client-2.145.0 google-auth-2.34.0 google-auth-httplib2-0.2.0 google-cloud-core-2.4.1 google-cloud-firestore-2.18.0 google-cloud-storage-2.18.2 google-crc32c-1.6.0 google-resumable-media-2.7.2 googleapis-common-protos-1.65.0 grpcio-1.66.1 grpcio-status-1.66.1 httplib2-0.22.0 msgpack-1.1.0 proto-plus-1.24.0 protobuf-5.28.1 pyasn1-0.6.1 pyasn1-modules-0.4.1 pyjwt-2.9.0 pyparsing-3.1.4 rsa-4.9 uritemplate-4.1.1\n"
     ]
    }
   ],
   "source": [
    "!pip3 install firebase_admin"
   ]
  },
  {
   "cell_type": "code",
   "execution_count": 20,
   "metadata": {},
   "outputs": [],
   "source": [
    "import firebase_admin\n",
    "from firebase_admin import credentials\n",
    "from firebase_admin import firestore"
   ]
  },
  {
   "cell_type": "code",
   "execution_count": 21,
   "metadata": {},
   "outputs": [],
   "source": [
    "cred = credentials.Certificate('service_key.json')\n",
    "\n",
    "app = firebase_admin.initialize_app(cred)\n",
    "db = firestore.client()"
   ]
  },
  {
   "cell_type": "code",
   "execution_count": 22,
   "metadata": {},
   "outputs": [],
   "source": [
    "nonprofit_ref = db.collection(\"nonprofits\")\n",
    "docs = nonprofit_ref.stream()\n",
    "\n",
    "nonprofits = []"
   ]
  },
  {
   "cell_type": "code",
   "execution_count": 23,
   "metadata": {},
   "outputs": [
    {
     "name": "stdout",
     "output_type": "stream",
     "text": [
      "343\n"
     ]
    }
   ],
   "source": [
    "for doc in docs:  \n",
    "    nonprofit = {\n",
    "        'id': doc.id,\n",
    "        'name': doc.get('name'),\n",
    "        'website': doc.get('website'),\n",
    "        'city': doc.get('city'),\n",
    "        'state': doc.get('state'),\n",
    "        'mission': doc.get('mission'),\n",
    "    }\n",
    "\n",
    "    nonprofits.append(nonprofit)\n",
    "\n",
    "print(len(nonprofits))"
   ]
  },
  {
   "cell_type": "code",
   "execution_count": 24,
   "metadata": {},
   "outputs": [
    {
     "data": {
      "text/html": [
       "<div>\n",
       "<style scoped>\n",
       "    .dataframe tbody tr th:only-of-type {\n",
       "        vertical-align: middle;\n",
       "    }\n",
       "\n",
       "    .dataframe tbody tr th {\n",
       "        vertical-align: top;\n",
       "    }\n",
       "\n",
       "    .dataframe thead th {\n",
       "        text-align: right;\n",
       "    }\n",
       "</style>\n",
       "<table border=\"1\" class=\"dataframe\">\n",
       "  <thead>\n",
       "    <tr style=\"text-align: right;\">\n",
       "      <th></th>\n",
       "      <th>id</th>\n",
       "      <th>name</th>\n",
       "      <th>website</th>\n",
       "      <th>city</th>\n",
       "      <th>state</th>\n",
       "      <th>mission</th>\n",
       "    </tr>\n",
       "  </thead>\n",
       "  <tbody>\n",
       "    <tr>\n",
       "      <th>0</th>\n",
       "      <td>0GLB8dk058bdbiHFq4vc</td>\n",
       "      <td>Hope House Shelter</td>\n",
       "      <td>www.hopehouseshelter.org</td>\n",
       "      <td>Springfield</td>\n",
       "      <td>MA</td>\n",
       "      <td>We provide compassionate care and support to i...</td>\n",
       "    </tr>\n",
       "    <tr>\n",
       "      <th>1</th>\n",
       "      <td>0ZtNJyNf2VzN05mVcbP6</td>\n",
       "      <td>GreenFuture Initiative</td>\n",
       "      <td>www.greenfutureinitiative.org</td>\n",
       "      <td>Boston</td>\n",
       "      <td>MA</td>\n",
       "      <td>Working to protect and restore our local envir...</td>\n",
       "    </tr>\n",
       "    <tr>\n",
       "      <th>2</th>\n",
       "      <td>0a6geGfA8vmCu9gSD056</td>\n",
       "      <td>City Rise Community Center</td>\n",
       "      <td>www.cityrisecc.org</td>\n",
       "      <td>Worcester</td>\n",
       "      <td>MA</td>\n",
       "      <td>Our mission is to empower underserved communit...</td>\n",
       "    </tr>\n",
       "    <tr>\n",
       "      <th>3</th>\n",
       "      <td>17NK7nlp3yXXcwADnJ0o</td>\n",
       "      <td>Mental Health Association of Massachusetts</td>\n",
       "      <td>www.mentalhealthmass.org</td>\n",
       "      <td>Fall River</td>\n",
       "      <td>MA</td>\n",
       "      <td>The Mental Health Association of Massachusetts...</td>\n",
       "    </tr>\n",
       "    <tr>\n",
       "      <th>4</th>\n",
       "      <td>1OQYNZnRkupyspuLjrWg</td>\n",
       "      <td>Boston Women's Empowerment Center</td>\n",
       "      <td>www.bostonwomensempowerment.org</td>\n",
       "      <td>Boston</td>\n",
       "      <td>MA</td>\n",
       "      <td>We work to empower women and girls through edu...</td>\n",
       "    </tr>\n",
       "  </tbody>\n",
       "</table>\n",
       "</div>"
      ],
      "text/plain": [
       "                     id                                        name  \\\n",
       "0  0GLB8dk058bdbiHFq4vc                          Hope House Shelter   \n",
       "1  0ZtNJyNf2VzN05mVcbP6                      GreenFuture Initiative   \n",
       "2  0a6geGfA8vmCu9gSD056                  City Rise Community Center   \n",
       "3  17NK7nlp3yXXcwADnJ0o  Mental Health Association of Massachusetts   \n",
       "4  1OQYNZnRkupyspuLjrWg           Boston Women's Empowerment Center   \n",
       "\n",
       "                           website         city state  \\\n",
       "0         www.hopehouseshelter.org  Springfield    MA   \n",
       "1    www.greenfutureinitiative.org       Boston    MA   \n",
       "2               www.cityrisecc.org    Worcester    MA   \n",
       "3         www.mentalhealthmass.org   Fall River    MA   \n",
       "4  www.bostonwomensempowerment.org       Boston    MA   \n",
       "\n",
       "                                             mission  \n",
       "0  We provide compassionate care and support to i...  \n",
       "1  Working to protect and restore our local envir...  \n",
       "2  Our mission is to empower underserved communit...  \n",
       "3  The Mental Health Association of Massachusetts...  \n",
       "4  We work to empower women and girls through edu...  "
      ]
     },
     "execution_count": 24,
     "metadata": {},
     "output_type": "execute_result"
    }
   ],
   "source": [
    "df = pd.DataFrame(nonprofits)\n",
    "\n",
    "df.head()"
   ]
  },
  {
   "cell_type": "code",
   "execution_count": 26,
   "metadata": {},
   "outputs": [],
   "source": [
    "with engine.connect() as conn:\n",
    "    with conn.begin():# Load \n",
    "        sql = f\"\"\"\n",
    "                CREATE TABLE nonprofits (\n",
    "        id VARCHAR(255),\n",
    "        name VARCHAR(255),\n",
    "        website VARCHAR(500),\n",
    "        city VARCHAR(255),\n",
    "        state VARCHAR(2000),\n",
    "        mission VARCHAR(2000),\n",
    "        mission_vector VECTOR(DOUBLE, 384)\n",
    "        )\n",
    "                \"\"\"\n",
    "        result = conn.execute(text(sql))"
   ]
  },
  {
   "cell_type": "code",
   "execution_count": 27,
   "metadata": {},
   "outputs": [
    {
     "name": "stderr",
     "output_type": "stream",
     "text": [
      "/opt/homebrew/Caskroom/miniconda/base/lib/python3.12/site-packages/transformers/tokenization_utils_base.py:1601: FutureWarning: `clean_up_tokenization_spaces` was not set. It will be set to `True` by default. This behavior will be depracted in transformers v4.45, and will be then set to `False` by default. For more details check this issue: https://github.com/huggingface/transformers/issues/31884\n",
      "  warnings.warn(\n"
     ]
    }
   ],
   "source": [
    "model = SentenceTransformer('all-MiniLM-L6-v2') "
   ]
  },
  {
   "cell_type": "code",
   "execution_count": 29,
   "metadata": {},
   "outputs": [],
   "source": [
    "# Generate embeddings for all descriptions at once. Batch processing makes it faster\n",
    "embeddings = model.encode(df['mission'].tolist(), normalize_embeddings=True)\n",
    "\n",
    "# Add the embeddings to the DataFrame\n",
    "df['mission_vector'] = embeddings.tolist()"
   ]
  },
  {
   "cell_type": "code",
   "execution_count": 30,
   "metadata": {},
   "outputs": [
    {
     "data": {
      "text/html": [
       "<div>\n",
       "<style scoped>\n",
       "    .dataframe tbody tr th:only-of-type {\n",
       "        vertical-align: middle;\n",
       "    }\n",
       "\n",
       "    .dataframe tbody tr th {\n",
       "        vertical-align: top;\n",
       "    }\n",
       "\n",
       "    .dataframe thead th {\n",
       "        text-align: right;\n",
       "    }\n",
       "</style>\n",
       "<table border=\"1\" class=\"dataframe\">\n",
       "  <thead>\n",
       "    <tr style=\"text-align: right;\">\n",
       "      <th></th>\n",
       "      <th>id</th>\n",
       "      <th>name</th>\n",
       "      <th>website</th>\n",
       "      <th>city</th>\n",
       "      <th>state</th>\n",
       "      <th>mission</th>\n",
       "      <th>mission_vector</th>\n",
       "    </tr>\n",
       "  </thead>\n",
       "  <tbody>\n",
       "    <tr>\n",
       "      <th>0</th>\n",
       "      <td>0GLB8dk058bdbiHFq4vc</td>\n",
       "      <td>Hope House Shelter</td>\n",
       "      <td>www.hopehouseshelter.org</td>\n",
       "      <td>Springfield</td>\n",
       "      <td>MA</td>\n",
       "      <td>We provide compassionate care and support to i...</td>\n",
       "      <td>[-0.0505363903939724, -0.01882144808769226, 0....</td>\n",
       "    </tr>\n",
       "    <tr>\n",
       "      <th>1</th>\n",
       "      <td>0ZtNJyNf2VzN05mVcbP6</td>\n",
       "      <td>GreenFuture Initiative</td>\n",
       "      <td>www.greenfutureinitiative.org</td>\n",
       "      <td>Boston</td>\n",
       "      <td>MA</td>\n",
       "      <td>Working to protect and restore our local envir...</td>\n",
       "      <td>[0.028934689238667488, 0.05520101636648178, 0....</td>\n",
       "    </tr>\n",
       "    <tr>\n",
       "      <th>2</th>\n",
       "      <td>0a6geGfA8vmCu9gSD056</td>\n",
       "      <td>City Rise Community Center</td>\n",
       "      <td>www.cityrisecc.org</td>\n",
       "      <td>Worcester</td>\n",
       "      <td>MA</td>\n",
       "      <td>Our mission is to empower underserved communit...</td>\n",
       "      <td>[0.012638190761208534, -0.03829539567232132, -...</td>\n",
       "    </tr>\n",
       "    <tr>\n",
       "      <th>3</th>\n",
       "      <td>17NK7nlp3yXXcwADnJ0o</td>\n",
       "      <td>Mental Health Association of Massachusetts</td>\n",
       "      <td>www.mentalhealthmass.org</td>\n",
       "      <td>Fall River</td>\n",
       "      <td>MA</td>\n",
       "      <td>The Mental Health Association of Massachusetts...</td>\n",
       "      <td>[-0.0486491434276104, -0.01821873150765896, 0....</td>\n",
       "    </tr>\n",
       "    <tr>\n",
       "      <th>4</th>\n",
       "      <td>1OQYNZnRkupyspuLjrWg</td>\n",
       "      <td>Boston Women's Empowerment Center</td>\n",
       "      <td>www.bostonwomensempowerment.org</td>\n",
       "      <td>Boston</td>\n",
       "      <td>MA</td>\n",
       "      <td>We work to empower women and girls through edu...</td>\n",
       "      <td>[-0.00923081487417221, 0.025880808010697365, 0...</td>\n",
       "    </tr>\n",
       "  </tbody>\n",
       "</table>\n",
       "</div>"
      ],
      "text/plain": [
       "                     id                                        name  \\\n",
       "0  0GLB8dk058bdbiHFq4vc                          Hope House Shelter   \n",
       "1  0ZtNJyNf2VzN05mVcbP6                      GreenFuture Initiative   \n",
       "2  0a6geGfA8vmCu9gSD056                  City Rise Community Center   \n",
       "3  17NK7nlp3yXXcwADnJ0o  Mental Health Association of Massachusetts   \n",
       "4  1OQYNZnRkupyspuLjrWg           Boston Women's Empowerment Center   \n",
       "\n",
       "                           website         city state  \\\n",
       "0         www.hopehouseshelter.org  Springfield    MA   \n",
       "1    www.greenfutureinitiative.org       Boston    MA   \n",
       "2               www.cityrisecc.org    Worcester    MA   \n",
       "3         www.mentalhealthmass.org   Fall River    MA   \n",
       "4  www.bostonwomensempowerment.org       Boston    MA   \n",
       "\n",
       "                                             mission  \\\n",
       "0  We provide compassionate care and support to i...   \n",
       "1  Working to protect and restore our local envir...   \n",
       "2  Our mission is to empower underserved communit...   \n",
       "3  The Mental Health Association of Massachusetts...   \n",
       "4  We work to empower women and girls through edu...   \n",
       "\n",
       "                                      mission_vector  \n",
       "0  [-0.0505363903939724, -0.01882144808769226, 0....  \n",
       "1  [0.028934689238667488, 0.05520101636648178, 0....  \n",
       "2  [0.012638190761208534, -0.03829539567232132, -...  \n",
       "3  [-0.0486491434276104, -0.01821873150765896, 0....  \n",
       "4  [-0.00923081487417221, 0.025880808010697365, 0...  "
      ]
     },
     "execution_count": 30,
     "metadata": {},
     "output_type": "execute_result"
    }
   ],
   "source": [
    "df.head()\n"
   ]
  },
  {
   "cell_type": "code",
   "execution_count": 39,
   "metadata": {},
   "outputs": [],
   "source": [
    "for index, row in df.iterrows(): \n",
    "    ref = db.collection(\"nonprofits\").document(row['id'])\n",
    "\n",
    "    ref.update({\"mission_vector\": row['mission_vector']})"
   ]
  },
  {
   "cell_type": "code",
   "execution_count": 54,
   "metadata": {},
   "outputs": [
    {
     "name": "stdout",
     "output_type": "stream",
     "text": [
      "[-0.02233690768480301, 0.012833223678171635, -0.0010269474005326629, -0.03621092066168785, -0.0011357571929693222, 0.07405806332826614, 0.008962400257587433, -0.02954917773604393, -0.005105447489768267, -0.038627300411462784, -0.008906560018658638, 0.013287349604070187, -0.012795854359865189, 0.03900778293609619, 0.019423676654696465, 0.0029140969272702932, 0.0723356232047081, 0.00823170691728592, 0.02420867420732975, -0.028105661273002625, -0.051582954823970795, -0.011189067736268044, -0.02112799510359764, -0.017575467005372047, 0.0604579858481884, -0.033262595534324646, -0.028616122901439667, -0.0361173152923584, 0.04328208789229393, -0.012693948112428188, -0.024852806702256203, -0.017203357070684433, 0.01797984167933464, -0.018971268087625504, 0.03147860988974571, 0.042082130908966064, -0.01962895691394806, -0.019319284707307816, -0.056345827877521515, 0.029179397970438004, -0.043252039700746536, -0.014081858098506927, -0.0803525447845459, 0.013713601045310497, 0.0556318499147892, -0.013434394262731075, 0.002814744831994176, 0.08453070372343063, 0.011487736366689205, 0.08332812041044235, 0.017900239676237106, -0.05351288616657257, -0.06521058082580566, -0.013754579238593578, -0.03311314806342125, -0.051641255617141724, 0.05535055696964264, -0.029645169153809547, 0.05237186700105667, -0.08077996969223022, 0.04323393478989601, -0.02715080790221691, 0.024515656754374504, 0.06196387857198715, -0.019755028188228607, 0.04342653602361679, -0.01525507215410471, 0.06781359016895294, -0.0831754207611084, -0.05582255497574806, 0.0021191169507801533, -0.0004462757788132876, 0.05324922129511833, 0.047732431441545486, 0.06514445692300797, 0.02119213528931141, 0.04357999935746193, -0.056463588029146194, -0.10071131587028503, 0.012926601804792881, 0.021382078528404236, 0.03729793429374695, 0.004119426943361759, -0.02421967312693596, -0.0525616854429245, 0.03631333261728287, -0.009544665925204754, 0.03593931347131729, 0.08118240535259247, -0.04597879573702812, 0.05593712255358696, 0.01566939428448677, 0.006112878210842609, -0.02321374975144863, 0.06797485053539276, -0.05403715372085571, 0.07920339703559875, -0.010876906104385853, -0.02117108926177025, -0.0015166577650234103, 0.048954762518405914, 0.023527273908257484, 0.0888461023569107, -0.0741734653711319, 0.0238381065428257, 0.0348636694252491, -0.04870738834142685, 0.047842349857091904, 0.010820357128977776, 0.031425442546606064, -0.06107056513428688, -0.031556207686662674, 0.023160355165600777, -0.015002263709902763, -0.005643525626510382, 0.03819146007299423, -0.08431114256381989, -0.05267146974802017, 0.12740981578826904, -0.08027088642120361, 0.07345522940158844, 0.012269225902855396, 0.018404826521873474, -0.11812472343444824, -0.06687004119157791, -0.08491811901330948, -0.0561654269695282, -2.755069292843552e-33, 0.04111352562904358, 0.04514726996421814, 0.03301544860005379, -0.036167342215776443, 0.07425981014966965, 0.011307816952466965, 0.08394290506839752, 0.0633387416601181, -0.025025734677910805, -0.005448878277093172, -0.016866173595190048, 0.01574048586189747, 0.0238625630736351, 0.15154831111431122, -0.031481582671403885, 0.040877532213926315, 0.017034003511071205, -0.005129399709403515, 0.11041449755430222, 0.024870533496141434, -0.04882507771253586, -0.12849240005016327, -0.013037648983299732, 0.08027997612953186, -0.028521325439214706, 0.0507851168513298, -0.029645396396517754, 0.08385460823774338, 0.10459135472774506, -0.023487722501158714, -0.0053908322006464005, -0.04598625749349594, 0.0717678815126419, -0.008987472392618656, -0.06738939881324768, -0.044576484709978104, -0.022137867286801338, -0.030852727591991425, 0.06716510653495789, -0.02671935223042965, 0.01450846716761589, 0.025180155411362648, -0.04507146030664444, 0.0653858408331871, -0.012565871700644493, 0.02725648693740368, 0.019533097743988037, -0.03293792903423309, 0.018217267468571663, 0.034873805940151215, -0.018084418028593063, 0.07155720144510269, -0.09732402861118317, 0.027887431904673576, -0.049815140664577484, -0.052767444401979446, -0.005697664339095354, -0.024218561127781868, -0.03284613788127899, -0.15185362100601196, 0.02899543009698391, -0.036916352808475494, 0.06320751458406448, 0.07892775535583496, -0.01680220663547516, -0.0013679604744538665, -0.027928167954087257, -0.0754905641078949, 0.005126606207340956, -0.012872559949755669, -0.0542578361928463, 0.031076375395059586, 0.061275139451026917, -0.10200580954551697, -0.05056871101260185, 0.014162102714180946, -0.01826830767095089, -0.00406362721696496, 0.01807531900703907, 0.03583505004644394, -0.08598758280277252, -0.018230535089969635, 0.03603874891996384, 0.048091135919094086, -0.017115052789449692, 0.058077506721019745, 0.06800942867994308, 0.044813234359025955, -0.02584422007203102, -0.025422319769859314, 0.005826675798743963, 0.011149395257234573, -0.09387972205877304, -0.058180827647447586, 0.0571768619120121, 1.4827761964734146e-33, -0.02175331674516201, -0.018101058900356293, 0.0034891776740550995, 0.0769762173295021, 0.05515769124031067, 0.010974867269396782, -0.008480915799736977, 0.03089737892150879, 0.08726675808429718, 0.07036259025335312, -0.04563581198453903, 0.0522347018122673, -0.06123465299606323, 0.036003343760967255, 0.0360935740172863, -0.09572577476501465, 0.008853084407746792, 0.014149586670100689, 0.028394579887390137, 0.012771266512572765, 0.030332526192069054, 0.03697151318192482, 0.0683785155415535, -0.11117050051689148, 0.001228828332386911, 0.08034409582614899, -0.02672157995402813, -0.0508418083190918, -0.08415292948484421, 0.09840942174196243, 0.03997289389371872, -0.1002127155661583, -0.02163521572947502, 0.050266217440366745, -0.04730463773012161, -0.018137091770768166, -0.02764906920492649, 0.06730493158102036, 0.048894837498664856, 0.015639279037714005, 0.03770395368337631, 0.0033559559378772974, -0.002289143158122897, 0.025056688115000725, -0.08475404232740402, -0.1031302660703659, -0.0363134928047657, -0.011028807610273361, 0.06110502406954765, -0.039292287081480026, -0.05072028934955597, 0.03753751143813133, -0.01769416593015194, -0.04251929372549057, -0.07943154126405716, 0.06482309103012085, -0.002741644624620676, 0.03499417006969452, -0.019286859780550003, 0.03934885561466217, -0.02601364441215992, 0.049891747534275055, -0.05584469810128212, -0.008448539301753044, 0.0773433968424797, 0.03919261693954468, 0.048175450414419174, 0.028200576081871986, -0.018568258732557297, 0.05161195620894432, 0.03615190088748932, 0.08078324794769287, 0.04793398082256317, 0.01660977303981781, -0.039368320256471634, 0.010013003833591938, 0.04883025959134102, 0.14034603536128998, 0.09583253413438797, -0.016644934192299843, -0.031227555125951767, -0.04866579547524452, 0.10367652773857117, 0.047181084752082825, 0.018451159819960594, -0.07638304680585861, -0.07036436349153519, -0.06893462687730789, 0.007135299500077963, -0.019096486270427704, -0.03924621269106865, 0.01983177475631237, 0.04064389318227768, 0.011514200828969479, 0.00578624103218317, -1.2636458990300525e-08, 0.03272208943963051, 0.04068373516201973, -0.01616457663476467, 0.015944480895996094, 0.00838231947273016, -0.011002916842699051, 0.04285283386707306, 0.01929955929517746, -0.08405556529760361, 0.05443951487541199, -0.011744815856218338, -0.09191884845495224, 0.031140165403485298, -0.020543744787573814, 0.0009541412582620978, -0.059943247586488724, 0.03304201364517212, -0.02274283580482006, -0.05467721074819565, -0.09901096671819687, 0.005308347754180431, 0.021088697016239166, -0.009515514597296715, -0.027403151616454124, -0.05155472084879875, 0.06922067701816559, 0.06572776287794113, 0.003656156128272414, -0.057429227977991104, 0.01436873059719801, -0.030489079654216766, 0.0620158426463604, 0.06163801625370979, -0.047656796872615814, 0.06320027261972427, -0.1654355823993683, -0.07334460318088531, -0.02983373962342739, -0.09561074525117874, -0.034762583673000336, -0.05575476586818695, -0.03302910551428795, -0.0014847300481051207, -0.07858983427286148, 0.08178330212831497, 0.039458632469177246, -0.03270191326737404, -0.05067359283566475, 0.0026341972406953573, 0.03431076183915138, -0.0688028484582901, 0.009640511125326157, 0.056084439158439636, -0.026782503351569176, -0.028280718252062798, -0.10255615413188934, 0.02647380344569683, 0.07431080937385559, 0.032503921538591385, 0.08881666511297226, -0.047778502106666565, -0.07892834395170212, 0.03625182434916496, -0.08087102323770523]\n"
     ]
    }
   ],
   "source": [
    "description_search = \"Payment for online art supplies\"\n",
    "search_vector = model.encode(description_search, normalize_embeddings=True).tolist() # Convert search phrase into a vector\n",
    "print(search_vector)"
   ]
  },
  {
   "cell_type": "code",
   "execution_count": 57,
   "metadata": {},
   "outputs": [
    {
     "name": "stdout",
     "output_type": "stream",
     "text": [
      "[-0.02233690768480301, 0.012833223678171635, -0.0010269474005326629, -0.03621092066168785, -0.0011357571929693222, 0.07405806332826614, 0.008962400257587433, -0.02954917773604393, -0.005105447489768267, -0.038627300411462784, -0.008906560018658638, 0.013287349604070187, -0.012795854359865189, 0.03900778293609619, 0.019423676654696465, 0.0029140969272702932, 0.0723356232047081, 0.00823170691728592, 0.02420867420732975, -0.028105661273002625, -0.051582954823970795, -0.011189067736268044, -0.02112799510359764, -0.017575467005372047, 0.0604579858481884, -0.033262595534324646, -0.028616122901439667, -0.0361173152923584, 0.04328208789229393, -0.012693948112428188, -0.024852806702256203, -0.017203357070684433, 0.01797984167933464, -0.018971268087625504, 0.03147860988974571, 0.042082130908966064, -0.01962895691394806, -0.019319284707307816, -0.056345827877521515, 0.029179397970438004, -0.043252039700746536, -0.014081858098506927, -0.0803525447845459, 0.013713601045310497, 0.0556318499147892, -0.013434394262731075, 0.002814744831994176, 0.08453070372343063, 0.011487736366689205, 0.08332812041044235, 0.017900239676237106, -0.05351288616657257, -0.06521058082580566, -0.013754579238593578, -0.03311314806342125, -0.051641255617141724, 0.05535055696964264, -0.029645169153809547, 0.05237186700105667, -0.08077996969223022, 0.04323393478989601, -0.02715080790221691, 0.024515656754374504, 0.06196387857198715, -0.019755028188228607, 0.04342653602361679, -0.01525507215410471, 0.06781359016895294, -0.0831754207611084, -0.05582255497574806, 0.0021191169507801533, -0.0004462757788132876, 0.05324922129511833, 0.047732431441545486, 0.06514445692300797, 0.02119213528931141, 0.04357999935746193, -0.056463588029146194, -0.10071131587028503, 0.012926601804792881, 0.021382078528404236, 0.03729793429374695, 0.004119426943361759, -0.02421967312693596, -0.0525616854429245, 0.03631333261728287, -0.009544665925204754, 0.03593931347131729, 0.08118240535259247, -0.04597879573702812, 0.05593712255358696, 0.01566939428448677, 0.006112878210842609, -0.02321374975144863, 0.06797485053539276, -0.05403715372085571, 0.07920339703559875, -0.010876906104385853, -0.02117108926177025, -0.0015166577650234103, 0.048954762518405914, 0.023527273908257484, 0.0888461023569107, -0.0741734653711319, 0.0238381065428257, 0.0348636694252491, -0.04870738834142685, 0.047842349857091904, 0.010820357128977776, 0.031425442546606064, -0.06107056513428688, -0.031556207686662674, 0.023160355165600777, -0.015002263709902763, -0.005643525626510382, 0.03819146007299423, -0.08431114256381989, -0.05267146974802017, 0.12740981578826904, -0.08027088642120361, 0.07345522940158844, 0.012269225902855396, 0.018404826521873474, -0.11812472343444824, -0.06687004119157791, -0.08491811901330948, -0.0561654269695282, -2.755069292843552e-33, 0.04111352562904358, 0.04514726996421814, 0.03301544860005379, -0.036167342215776443, 0.07425981014966965, 0.011307816952466965, 0.08394290506839752, 0.0633387416601181, -0.025025734677910805, -0.005448878277093172, -0.016866173595190048, 0.01574048586189747, 0.0238625630736351, 0.15154831111431122, -0.031481582671403885, 0.040877532213926315, 0.017034003511071205, -0.005129399709403515, 0.11041449755430222, 0.024870533496141434, -0.04882507771253586, -0.12849240005016327, -0.013037648983299732, 0.08027997612953186, -0.028521325439214706, 0.0507851168513298, -0.029645396396517754, 0.08385460823774338, 0.10459135472774506, -0.023487722501158714, -0.0053908322006464005, -0.04598625749349594, 0.0717678815126419, -0.008987472392618656, -0.06738939881324768, -0.044576484709978104, -0.022137867286801338, -0.030852727591991425, 0.06716510653495789, -0.02671935223042965, 0.01450846716761589, 0.025180155411362648, -0.04507146030664444, 0.0653858408331871, -0.012565871700644493, 0.02725648693740368, 0.019533097743988037, -0.03293792903423309, 0.018217267468571663, 0.034873805940151215, -0.018084418028593063, 0.07155720144510269, -0.09732402861118317, 0.027887431904673576, -0.049815140664577484, -0.052767444401979446, -0.005697664339095354, -0.024218561127781868, -0.03284613788127899, -0.15185362100601196, 0.02899543009698391, -0.036916352808475494, 0.06320751458406448, 0.07892775535583496, -0.01680220663547516, -0.0013679604744538665, -0.027928167954087257, -0.0754905641078949, 0.005126606207340956, -0.012872559949755669, -0.0542578361928463, 0.031076375395059586, 0.061275139451026917, -0.10200580954551697, -0.05056871101260185, 0.014162102714180946, -0.01826830767095089, -0.00406362721696496, 0.01807531900703907, 0.03583505004644394, -0.08598758280277252, -0.018230535089969635, 0.03603874891996384, 0.048091135919094086, -0.017115052789449692, 0.058077506721019745, 0.06800942867994308, 0.044813234359025955, -0.02584422007203102, -0.025422319769859314, 0.005826675798743963, 0.011149395257234573, -0.09387972205877304, -0.058180827647447586, 0.0571768619120121, 1.4827761964734146e-33, -0.02175331674516201, -0.018101058900356293, 0.0034891776740550995, 0.0769762173295021, 0.05515769124031067, 0.010974867269396782, -0.008480915799736977, 0.03089737892150879, 0.08726675808429718, 0.07036259025335312, -0.04563581198453903, 0.0522347018122673, -0.06123465299606323, 0.036003343760967255, 0.0360935740172863, -0.09572577476501465, 0.008853084407746792, 0.014149586670100689, 0.028394579887390137, 0.012771266512572765, 0.030332526192069054, 0.03697151318192482, 0.0683785155415535, -0.11117050051689148, 0.001228828332386911, 0.08034409582614899, -0.02672157995402813, -0.0508418083190918, -0.08415292948484421, 0.09840942174196243, 0.03997289389371872, -0.1002127155661583, -0.02163521572947502, 0.050266217440366745, -0.04730463773012161, -0.018137091770768166, -0.02764906920492649, 0.06730493158102036, 0.048894837498664856, 0.015639279037714005, 0.03770395368337631, 0.0033559559378772974, -0.002289143158122897, 0.025056688115000725, -0.08475404232740402, -0.1031302660703659, -0.0363134928047657, -0.011028807610273361, 0.06110502406954765, -0.039292287081480026, -0.05072028934955597, 0.03753751143813133, -0.01769416593015194, -0.04251929372549057, -0.07943154126405716, 0.06482309103012085, -0.002741644624620676, 0.03499417006969452, -0.019286859780550003, 0.03934885561466217, -0.02601364441215992, 0.049891747534275055, -0.05584469810128212, -0.008448539301753044, 0.0773433968424797, 0.03919261693954468, 0.048175450414419174, 0.028200576081871986, -0.018568258732557297, 0.05161195620894432, 0.03615190088748932, 0.08078324794769287, 0.04793398082256317, 0.01660977303981781, -0.039368320256471634, 0.010013003833591938, 0.04883025959134102, 0.14034603536128998, 0.09583253413438797, -0.016644934192299843, -0.031227555125951767, -0.04866579547524452, 0.10367652773857117, 0.047181084752082825, 0.018451159819960594, -0.07638304680585861, -0.07036436349153519, -0.06893462687730789, 0.007135299500077963, -0.019096486270427704, -0.03924621269106865, 0.01983177475631237, 0.04064389318227768, 0.011514200828969479, 0.00578624103218317, -1.2636458990300525e-08, 0.03272208943963051, 0.04068373516201973, -0.01616457663476467, 0.015944480895996094, 0.00838231947273016, -0.011002916842699051, 0.04285283386707306, 0.01929955929517746, -0.08405556529760361, 0.05443951487541199, -0.011744815856218338, -0.09191884845495224, 0.031140165403485298, -0.020543744787573814, 0.0009541412582620978, -0.059943247586488724, 0.03304201364517212, -0.02274283580482006, -0.05467721074819565, -0.09901096671819687, 0.005308347754180431, 0.021088697016239166, -0.009515514597296715, -0.027403151616454124, -0.05155472084879875, 0.06922067701816559, 0.06572776287794113, 0.003656156128272414, -0.057429227977991104, 0.01436873059719801, -0.030489079654216766, 0.0620158426463604, 0.06163801625370979, -0.047656796872615814, 0.06320027261972427, -0.1654355823993683, -0.07334460318088531, -0.02983373962342739, -0.09561074525117874, -0.034762583673000336, -0.05575476586818695, -0.03302910551428795, -0.0014847300481051207, -0.07858983427286148, 0.08178330212831497, 0.039458632469177246, -0.03270191326737404, -0.05067359283566475, 0.0026341972406953573, 0.03431076183915138, -0.0688028484582901, 0.009640511125326157, 0.056084439158439636, -0.026782503351569176, -0.028280718252062798, -0.10255615413188934, 0.02647380344569683, 0.07431080937385559, 0.032503921538591385, 0.08881666511297226, -0.047778502106666565, -0.07892834395170212, 0.03625182434916496, -0.08087102323770523]\n"
     ]
    }
   ],
   "source": [
    "print(search_vector)\n",
    "\n",
    "with engine.connect() as conn:\n",
    "    with conn.begin():\n",
    "        sql = text(\"\"\"\n",
    "            SELECT * FROM nonprofits \n",
    "        \"\"\")\n",
    "\n",
    "        # search_vector_str = ', '.join(map(str, search_vector))  # Convert vector to string\n",
    "\n",
    "\n",
    "        results = conn.execute(sql).fetchall()"
   ]
  },
  {
   "cell_type": "code",
   "execution_count": 58,
   "metadata": {},
   "outputs": [
    {
     "name": "stdout",
     "output_type": "stream",
     "text": [
      "[]\n"
     ]
    }
   ],
   "source": [
    "print(results)"
   ]
  },
  {
   "cell_type": "code",
   "execution_count": 51,
   "metadata": {},
   "outputs": [
    {
     "data": {
      "text/html": [
       "<div>\n",
       "<style scoped>\n",
       "    .dataframe tbody tr th:only-of-type {\n",
       "        vertical-align: middle;\n",
       "    }\n",
       "\n",
       "    .dataframe tbody tr th {\n",
       "        vertical-align: top;\n",
       "    }\n",
       "\n",
       "    .dataframe thead th {\n",
       "        text-align: right;\n",
       "    }\n",
       "</style>\n",
       "<table border=\"1\" class=\"dataframe\">\n",
       "  <thead>\n",
       "    <tr style=\"text-align: right;\">\n",
       "      <th></th>\n",
       "      <th>id</th>\n",
       "      <th>name</th>\n",
       "      <th>website</th>\n",
       "      <th>city</th>\n",
       "      <th>state</th>\n",
       "      <th>mission</th>\n",
       "    </tr>\n",
       "  </thead>\n",
       "  <tbody>\n",
       "  </tbody>\n",
       "</table>\n",
       "</div>"
      ],
      "text/plain": [
       "Empty DataFrame\n",
       "Columns: [id, name, website, city, state, mission]\n",
       "Index: []"
      ]
     },
     "execution_count": 51,
     "metadata": {},
     "output_type": "execute_result"
    }
   ],
   "source": [
    "results_df = pd.DataFrame(results, columns=df.columns).iloc[:, :-1] # Remove vector\n",
    "pd.set_option('display.max_colwidth', None)  # Easier to read description\n",
    "results_df.head()"
   ]
  }
 ],
 "metadata": {
  "kernelspec": {
   "display_name": "base",
   "language": "python",
   "name": "python3"
  },
  "language_info": {
   "codemirror_mode": {
    "name": "ipython",
    "version": 3
   },
   "file_extension": ".py",
   "mimetype": "text/x-python",
   "name": "python",
   "nbconvert_exporter": "python",
   "pygments_lexer": "ipython3",
   "version": "3.12.2"
  }
 },
 "nbformat": 4,
 "nbformat_minor": 2
}
